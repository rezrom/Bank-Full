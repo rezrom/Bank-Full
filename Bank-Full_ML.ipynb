{
 "cells": [
  {
   "cell_type": "markdown",
   "id": "9d578e03-ae86-4ab7-8898-3a6edbdba6d9",
   "metadata": {},
   "source": [
    "# Bank-Full ML"
   ]
  },
  {
   "cell_type": "markdown",
   "id": "a3651936-c1c3-40f8-8815-9e2d91e9cd36",
   "metadata": {},
   "source": [
    "Relevant Information:\n",
    "\n",
    "   The data is related with direct marketing campaigns of a Portuguese banking institution. \n",
    "   The marketing campaigns were based on phone calls. Often, more than one contact to the same client was required, \n",
    "   in order to access if the product (bank term deposit) would be (or not) subscribed. \n",
    "\n",
    "Number of Instances: 45211 for bank-full.csv\n",
    "\n",
    "Number of Attributes: 16 + output attribute."
   ]
  },
  {
   "cell_type": "markdown",
   "id": "f09b5916-d821-4ace-894e-3ee641849aa4",
   "metadata": {},
   "source": [
    "# Target"
   ]
  },
  {
   "cell_type": "markdown",
   "id": "984ec41c-4e5d-4d0e-988f-4456a51a5415",
   "metadata": {},
   "source": [
    "Find and define correlation between variable to client subscription "
   ]
  },
  {
   "cell_type": "markdown",
   "id": "2be09ba2-22ce-4d53-b973-82e083dd8119",
   "metadata": {},
   "source": [
    "# Feature Description"
   ]
  },
  {
   "cell_type": "markdown",
   "id": "8ffa1bfe-cf5c-47a0-930e-109a52fcfa63",
   "metadata": {},
   "source": [
    "Relevant Information:\n",
    "\n",
    "   The data is related with direct marketing campaigns of a Portuguese banking institution. \n",
    "   The marketing campaigns were based on phone calls. Often, more than one contact to the same client was required, \n",
    "   in order to access if the product (bank term deposit) would be (or not) subscribed. \n",
    "\n",
    "Number of Instances: 45211 for bank-full.csv\n",
    "\n",
    "Number of Attributes: 16 + output attribute.\n",
    "\n",
    "Attribute information:\n",
    "\n",
    "   Input variables:\n",
    "   # bank client data:\n",
    "   1 - age (numeric)\n",
    "   2 - job : type of job (categorical: \"admin.\",\"unknown\",\"unemployed\",\"management\",\"housemaid\",\"entrepreneur\",\"student\",\n",
    "                                       \"blue-collar\",\"self-employed\",\"retired\",\"technician\",\"services\") \n",
    "   3 - marital : marital status (categorical: \"married\",\"divorced\",\"single\"; note: \"divorced\" means divorced or widowed)\n",
    "   4 - education (categorical: \"unknown\",\"secondary\",\"primary\",\"tertiary\")\n",
    "   5 - default: has credit in default? (binary: \"yes\",\"no\")\n",
    "   6 - balance: average yearly balance, in euros (numeric) \n",
    "   7 - housing: has housing loan? (binary: \"yes\",\"no\")\n",
    "   8 - loan: has personal loan? (binary: \"yes\",\"no\")\n",
    "   # related with the last contact of the current campaign:\n",
    "   9 - contact: contact communication type (categorical: \"unknown\",\"telephone\",\"cellular\") \n",
    "  10 - day: last contact day of the month (numeric)\n",
    "  11 - month: last contact month of year (categorical: \"jan\", \"feb\", \"mar\", ..., \"nov\", \"dec\")\n",
    "  12 - duration: last contact duration, in seconds (numeric)\n",
    "   # other attributes:\n",
    "  13 - campaign: number of contacts performed during this campaign and for this client (numeric, includes last contact)\n",
    "  14 - pdays: number of days that passed by after the client was last contacted from a previous campaign (numeric, -1 means client was not previously contacted)\n",
    "  15 - previous: number of contacts performed before this campaign and for this client (numeric)\n",
    "  16 - poutcome: outcome of the previous marketing campaign (categorical: \"unknown\",\"other\",\"failure\",\"success\")\n",
    "\n",
    "  Output variable (desired target):\n",
    "  17 - y - has the client subscribed a term deposit? (binary: \"yes\",\"no\")\n"
   ]
  },
  {
   "cell_type": "markdown",
   "id": "a922157f-2ece-40eb-8259-2fe4260b8b5d",
   "metadata": {},
   "source": [
    "# Data Overview"
   ]
  },
  {
   "cell_type": "code",
   "execution_count": 4,
   "id": "736bd5c1-8aa9-4a65-a413-f3993f879f66",
   "metadata": {},
   "outputs": [],
   "source": [
    "import pandas as pd\n",
    "import numpy as np\n",
    "import matplotlib.pyplot as plt\n",
    "import seaborn as sns\n",
    "import scipy.stats as ss\n",
    "import random\n",
    "\n",
    "import statsmodels as sm\n",
    "from statsmodels.stats.outliers_influence import variance_inflation_factor\n",
    "from scipy import stats\n",
    "\n",
    "from sklearn.preprocessing import StandardScaler, MinMaxScaler, RobustScaler\n",
    "from sklearn.preprocessing import LabelEncoder, OrdinalEncoder\n",
    "from sklearn.feature_selection import SelectKBest, chi2, f_classif, f_regression\n",
    "from sklearn.ensemble import ExtraTreesClassifier, ExtraTreesRegressor\n",
    "from sklearn.model_selection import train_test_split\n",
    "from sklearn.linear_model import LogisticRegression\n",
    "from sklearn import metrics\n",
    "from statsmodels.stats.outliers_influence import variance_inflation_factor\n",
    "from sklearn.preprocessing import StandardScaler, RobustScaler\n",
    "from sklearn.tree import DecisionTreeClassifier, plot_tree, export_graphviz\n",
    "from sklearn.ensemble import ExtraTreesClassifier, RandomForestClassifier\n",
    "from sklearn.model_selection import KFold, StratifiedKFold, train_test_split, cross_validate, cross_val_score\n",
    "\n",
    "# for undersampling & oversampling\n",
    "from imblearn.over_sampling import SMOTE\n",
    "from imblearn.under_sampling import NearMiss, TomekLinks\n",
    "from imblearn.combine import SMOTETomek\n",
    "from sklearn.metrics import classification_report, accuracy_score, confusion_matrix, recall_score, roc_auc_score, roc_curve, precision_score, f1_score\n",
    "\n",
    "import warnings\n",
    "warnings.filterwarnings('ignore')"
   ]
  },
  {
   "cell_type": "code",
   "execution_count": 5,
   "id": "9c454f7b-670e-4930-9894-a57bebf44d74",
   "metadata": {
    "tags": []
   },
   "outputs": [],
   "source": [
    "df = pd.read_csv(r'C:\\Users\\RIzkyeka00\\Downloads\\bank-full.csv', delimiter =';')"
   ]
  },
  {
   "cell_type": "code",
   "execution_count": 6,
   "id": "c13c60fb-129b-43e9-ab35-04bffcdcce47",
   "metadata": {},
   "outputs": [
    {
     "data": {
      "text/html": [
       "<div>\n",
       "<style scoped>\n",
       "    .dataframe tbody tr th:only-of-type {\n",
       "        vertical-align: middle;\n",
       "    }\n",
       "\n",
       "    .dataframe tbody tr th {\n",
       "        vertical-align: top;\n",
       "    }\n",
       "\n",
       "    .dataframe thead th {\n",
       "        text-align: right;\n",
       "    }\n",
       "</style>\n",
       "<table border=\"1\" class=\"dataframe\">\n",
       "  <thead>\n",
       "    <tr style=\"text-align: right;\">\n",
       "      <th></th>\n",
       "      <th>age</th>\n",
       "      <th>job</th>\n",
       "      <th>marital</th>\n",
       "      <th>education</th>\n",
       "      <th>default</th>\n",
       "      <th>balance</th>\n",
       "      <th>housing</th>\n",
       "      <th>loan</th>\n",
       "      <th>contact</th>\n",
       "      <th>day</th>\n",
       "      <th>month</th>\n",
       "      <th>duration</th>\n",
       "      <th>campaign</th>\n",
       "      <th>pdays</th>\n",
       "      <th>previous</th>\n",
       "      <th>poutcome</th>\n",
       "      <th>y</th>\n",
       "    </tr>\n",
       "  </thead>\n",
       "  <tbody>\n",
       "    <tr>\n",
       "      <th>0</th>\n",
       "      <td>58</td>\n",
       "      <td>management</td>\n",
       "      <td>married</td>\n",
       "      <td>tertiary</td>\n",
       "      <td>no</td>\n",
       "      <td>2143</td>\n",
       "      <td>yes</td>\n",
       "      <td>no</td>\n",
       "      <td>unknown</td>\n",
       "      <td>5</td>\n",
       "      <td>may</td>\n",
       "      <td>261</td>\n",
       "      <td>1</td>\n",
       "      <td>-1</td>\n",
       "      <td>0</td>\n",
       "      <td>unknown</td>\n",
       "      <td>no</td>\n",
       "    </tr>\n",
       "    <tr>\n",
       "      <th>1</th>\n",
       "      <td>44</td>\n",
       "      <td>technician</td>\n",
       "      <td>single</td>\n",
       "      <td>secondary</td>\n",
       "      <td>no</td>\n",
       "      <td>29</td>\n",
       "      <td>yes</td>\n",
       "      <td>no</td>\n",
       "      <td>unknown</td>\n",
       "      <td>5</td>\n",
       "      <td>may</td>\n",
       "      <td>151</td>\n",
       "      <td>1</td>\n",
       "      <td>-1</td>\n",
       "      <td>0</td>\n",
       "      <td>unknown</td>\n",
       "      <td>no</td>\n",
       "    </tr>\n",
       "    <tr>\n",
       "      <th>2</th>\n",
       "      <td>33</td>\n",
       "      <td>entrepreneur</td>\n",
       "      <td>married</td>\n",
       "      <td>secondary</td>\n",
       "      <td>no</td>\n",
       "      <td>2</td>\n",
       "      <td>yes</td>\n",
       "      <td>yes</td>\n",
       "      <td>unknown</td>\n",
       "      <td>5</td>\n",
       "      <td>may</td>\n",
       "      <td>76</td>\n",
       "      <td>1</td>\n",
       "      <td>-1</td>\n",
       "      <td>0</td>\n",
       "      <td>unknown</td>\n",
       "      <td>no</td>\n",
       "    </tr>\n",
       "    <tr>\n",
       "      <th>3</th>\n",
       "      <td>47</td>\n",
       "      <td>blue-collar</td>\n",
       "      <td>married</td>\n",
       "      <td>unknown</td>\n",
       "      <td>no</td>\n",
       "      <td>1506</td>\n",
       "      <td>yes</td>\n",
       "      <td>no</td>\n",
       "      <td>unknown</td>\n",
       "      <td>5</td>\n",
       "      <td>may</td>\n",
       "      <td>92</td>\n",
       "      <td>1</td>\n",
       "      <td>-1</td>\n",
       "      <td>0</td>\n",
       "      <td>unknown</td>\n",
       "      <td>no</td>\n",
       "    </tr>\n",
       "    <tr>\n",
       "      <th>4</th>\n",
       "      <td>33</td>\n",
       "      <td>unknown</td>\n",
       "      <td>single</td>\n",
       "      <td>unknown</td>\n",
       "      <td>no</td>\n",
       "      <td>1</td>\n",
       "      <td>no</td>\n",
       "      <td>no</td>\n",
       "      <td>unknown</td>\n",
       "      <td>5</td>\n",
       "      <td>may</td>\n",
       "      <td>198</td>\n",
       "      <td>1</td>\n",
       "      <td>-1</td>\n",
       "      <td>0</td>\n",
       "      <td>unknown</td>\n",
       "      <td>no</td>\n",
       "    </tr>\n",
       "  </tbody>\n",
       "</table>\n",
       "</div>"
      ],
      "text/plain": [
       "   age           job  marital  education default  balance housing loan  \\\n",
       "0   58    management  married   tertiary      no     2143     yes   no   \n",
       "1   44    technician   single  secondary      no       29     yes   no   \n",
       "2   33  entrepreneur  married  secondary      no        2     yes  yes   \n",
       "3   47   blue-collar  married    unknown      no     1506     yes   no   \n",
       "4   33       unknown   single    unknown      no        1      no   no   \n",
       "\n",
       "   contact  day month  duration  campaign  pdays  previous poutcome   y  \n",
       "0  unknown    5   may       261         1     -1         0  unknown  no  \n",
       "1  unknown    5   may       151         1     -1         0  unknown  no  \n",
       "2  unknown    5   may        76         1     -1         0  unknown  no  \n",
       "3  unknown    5   may        92         1     -1         0  unknown  no  \n",
       "4  unknown    5   may       198         1     -1         0  unknown  no  "
      ]
     },
     "execution_count": 6,
     "metadata": {},
     "output_type": "execute_result"
    }
   ],
   "source": [
    "df.head()"
   ]
  },
  {
   "cell_type": "code",
   "execution_count": 7,
   "id": "6ddd8344-cd40-4ade-aa15-c9599baa2cf3",
   "metadata": {},
   "outputs": [
    {
     "data": {
      "text/html": [
       "<div>\n",
       "<style scoped>\n",
       "    .dataframe tbody tr th:only-of-type {\n",
       "        vertical-align: middle;\n",
       "    }\n",
       "\n",
       "    .dataframe tbody tr th {\n",
       "        vertical-align: top;\n",
       "    }\n",
       "\n",
       "    .dataframe thead th {\n",
       "        text-align: right;\n",
       "    }\n",
       "</style>\n",
       "<table border=\"1\" class=\"dataframe\">\n",
       "  <thead>\n",
       "    <tr style=\"text-align: right;\">\n",
       "      <th></th>\n",
       "      <th>age</th>\n",
       "      <th>job</th>\n",
       "      <th>marital</th>\n",
       "      <th>education</th>\n",
       "      <th>default</th>\n",
       "      <th>balance</th>\n",
       "      <th>housing</th>\n",
       "      <th>loan</th>\n",
       "      <th>contact</th>\n",
       "      <th>day</th>\n",
       "      <th>month</th>\n",
       "      <th>duration</th>\n",
       "      <th>campaign</th>\n",
       "      <th>pdays</th>\n",
       "      <th>previous</th>\n",
       "      <th>poutcome</th>\n",
       "      <th>y</th>\n",
       "    </tr>\n",
       "  </thead>\n",
       "  <tbody>\n",
       "    <tr>\n",
       "      <th>45206</th>\n",
       "      <td>51</td>\n",
       "      <td>technician</td>\n",
       "      <td>married</td>\n",
       "      <td>tertiary</td>\n",
       "      <td>no</td>\n",
       "      <td>825</td>\n",
       "      <td>no</td>\n",
       "      <td>no</td>\n",
       "      <td>cellular</td>\n",
       "      <td>17</td>\n",
       "      <td>nov</td>\n",
       "      <td>977</td>\n",
       "      <td>3</td>\n",
       "      <td>-1</td>\n",
       "      <td>0</td>\n",
       "      <td>unknown</td>\n",
       "      <td>yes</td>\n",
       "    </tr>\n",
       "    <tr>\n",
       "      <th>45207</th>\n",
       "      <td>71</td>\n",
       "      <td>retired</td>\n",
       "      <td>divorced</td>\n",
       "      <td>primary</td>\n",
       "      <td>no</td>\n",
       "      <td>1729</td>\n",
       "      <td>no</td>\n",
       "      <td>no</td>\n",
       "      <td>cellular</td>\n",
       "      <td>17</td>\n",
       "      <td>nov</td>\n",
       "      <td>456</td>\n",
       "      <td>2</td>\n",
       "      <td>-1</td>\n",
       "      <td>0</td>\n",
       "      <td>unknown</td>\n",
       "      <td>yes</td>\n",
       "    </tr>\n",
       "    <tr>\n",
       "      <th>45208</th>\n",
       "      <td>72</td>\n",
       "      <td>retired</td>\n",
       "      <td>married</td>\n",
       "      <td>secondary</td>\n",
       "      <td>no</td>\n",
       "      <td>5715</td>\n",
       "      <td>no</td>\n",
       "      <td>no</td>\n",
       "      <td>cellular</td>\n",
       "      <td>17</td>\n",
       "      <td>nov</td>\n",
       "      <td>1127</td>\n",
       "      <td>5</td>\n",
       "      <td>184</td>\n",
       "      <td>3</td>\n",
       "      <td>success</td>\n",
       "      <td>yes</td>\n",
       "    </tr>\n",
       "    <tr>\n",
       "      <th>45209</th>\n",
       "      <td>57</td>\n",
       "      <td>blue-collar</td>\n",
       "      <td>married</td>\n",
       "      <td>secondary</td>\n",
       "      <td>no</td>\n",
       "      <td>668</td>\n",
       "      <td>no</td>\n",
       "      <td>no</td>\n",
       "      <td>telephone</td>\n",
       "      <td>17</td>\n",
       "      <td>nov</td>\n",
       "      <td>508</td>\n",
       "      <td>4</td>\n",
       "      <td>-1</td>\n",
       "      <td>0</td>\n",
       "      <td>unknown</td>\n",
       "      <td>no</td>\n",
       "    </tr>\n",
       "    <tr>\n",
       "      <th>45210</th>\n",
       "      <td>37</td>\n",
       "      <td>entrepreneur</td>\n",
       "      <td>married</td>\n",
       "      <td>secondary</td>\n",
       "      <td>no</td>\n",
       "      <td>2971</td>\n",
       "      <td>no</td>\n",
       "      <td>no</td>\n",
       "      <td>cellular</td>\n",
       "      <td>17</td>\n",
       "      <td>nov</td>\n",
       "      <td>361</td>\n",
       "      <td>2</td>\n",
       "      <td>188</td>\n",
       "      <td>11</td>\n",
       "      <td>other</td>\n",
       "      <td>no</td>\n",
       "    </tr>\n",
       "  </tbody>\n",
       "</table>\n",
       "</div>"
      ],
      "text/plain": [
       "       age           job   marital  education default  balance housing loan  \\\n",
       "45206   51    technician   married   tertiary      no      825      no   no   \n",
       "45207   71       retired  divorced    primary      no     1729      no   no   \n",
       "45208   72       retired   married  secondary      no     5715      no   no   \n",
       "45209   57   blue-collar   married  secondary      no      668      no   no   \n",
       "45210   37  entrepreneur   married  secondary      no     2971      no   no   \n",
       "\n",
       "         contact  day month  duration  campaign  pdays  previous poutcome    y  \n",
       "45206   cellular   17   nov       977         3     -1         0  unknown  yes  \n",
       "45207   cellular   17   nov       456         2     -1         0  unknown  yes  \n",
       "45208   cellular   17   nov      1127         5    184         3  success  yes  \n",
       "45209  telephone   17   nov       508         4     -1         0  unknown   no  \n",
       "45210   cellular   17   nov       361         2    188        11    other   no  "
      ]
     },
     "execution_count": 7,
     "metadata": {},
     "output_type": "execute_result"
    }
   ],
   "source": [
    "df.tail()"
   ]
  },
  {
   "cell_type": "code",
   "execution_count": 8,
   "id": "9f1b7f66-753c-44b8-9f2d-9e2007c451c5",
   "metadata": {},
   "outputs": [
    {
     "name": "stdout",
     "output_type": "stream",
     "text": [
      "<class 'pandas.core.frame.DataFrame'>\n",
      "RangeIndex: 45211 entries, 0 to 45210\n",
      "Data columns (total 17 columns):\n",
      " #   Column     Non-Null Count  Dtype \n",
      "---  ------     --------------  ----- \n",
      " 0   age        45211 non-null  int64 \n",
      " 1   job        45211 non-null  object\n",
      " 2   marital    45211 non-null  object\n",
      " 3   education  45211 non-null  object\n",
      " 4   default    45211 non-null  object\n",
      " 5   balance    45211 non-null  int64 \n",
      " 6   housing    45211 non-null  object\n",
      " 7   loan       45211 non-null  object\n",
      " 8   contact    45211 non-null  object\n",
      " 9   day        45211 non-null  int64 \n",
      " 10  month      45211 non-null  object\n",
      " 11  duration   45211 non-null  int64 \n",
      " 12  campaign   45211 non-null  int64 \n",
      " 13  pdays      45211 non-null  int64 \n",
      " 14  previous   45211 non-null  int64 \n",
      " 15  poutcome   45211 non-null  object\n",
      " 16  y          45211 non-null  object\n",
      "dtypes: int64(7), object(10)\n",
      "memory usage: 5.9+ MB\n"
     ]
    }
   ],
   "source": [
    "df.info()"
   ]
  },
  {
   "cell_type": "code",
   "execution_count": 9,
   "id": "ff358809-b63a-4232-897c-f8a438512f9e",
   "metadata": {},
   "outputs": [
    {
     "data": {
      "text/plain": [
       "age          0\n",
       "job          0\n",
       "marital      0\n",
       "education    0\n",
       "default      0\n",
       "balance      0\n",
       "housing      0\n",
       "loan         0\n",
       "contact      0\n",
       "day          0\n",
       "month        0\n",
       "duration     0\n",
       "campaign     0\n",
       "pdays        0\n",
       "previous     0\n",
       "poutcome     0\n",
       "y            0\n",
       "dtype: int64"
      ]
     },
     "execution_count": 9,
     "metadata": {},
     "output_type": "execute_result"
    }
   ],
   "source": [
    "df.isna().sum()"
   ]
  },
  {
   "cell_type": "code",
   "execution_count": 10,
   "id": "852ea05e-bb07-464a-913a-ad69e546594d",
   "metadata": {},
   "outputs": [
    {
     "data": {
      "text/html": [
       "<div>\n",
       "<style scoped>\n",
       "    .dataframe tbody tr th:only-of-type {\n",
       "        vertical-align: middle;\n",
       "    }\n",
       "\n",
       "    .dataframe tbody tr th {\n",
       "        vertical-align: top;\n",
       "    }\n",
       "\n",
       "    .dataframe thead th {\n",
       "        text-align: right;\n",
       "    }\n",
       "</style>\n",
       "<table border=\"1\" class=\"dataframe\">\n",
       "  <thead>\n",
       "    <tr style=\"text-align: right;\">\n",
       "      <th></th>\n",
       "      <th>Features</th>\n",
       "      <th>Unique Number</th>\n",
       "      <th>Values</th>\n",
       "    </tr>\n",
       "  </thead>\n",
       "  <tbody>\n",
       "    <tr>\n",
       "      <th>0</th>\n",
       "      <td>age</td>\n",
       "      <td>77</td>\n",
       "      <td>[58, 44, 33, 47, 35, 28, 42, 43, 41, 29, 53, 5...</td>\n",
       "    </tr>\n",
       "    <tr>\n",
       "      <th>1</th>\n",
       "      <td>job</td>\n",
       "      <td>12</td>\n",
       "      <td>[management, technician, entrepreneur, blue-co...</td>\n",
       "    </tr>\n",
       "    <tr>\n",
       "      <th>2</th>\n",
       "      <td>marital</td>\n",
       "      <td>3</td>\n",
       "      <td>[married, single, divorced]</td>\n",
       "    </tr>\n",
       "    <tr>\n",
       "      <th>3</th>\n",
       "      <td>education</td>\n",
       "      <td>4</td>\n",
       "      <td>[tertiary, secondary, unknown, primary]</td>\n",
       "    </tr>\n",
       "    <tr>\n",
       "      <th>4</th>\n",
       "      <td>default</td>\n",
       "      <td>2</td>\n",
       "      <td>[no, yes]</td>\n",
       "    </tr>\n",
       "    <tr>\n",
       "      <th>5</th>\n",
       "      <td>balance</td>\n",
       "      <td>7168</td>\n",
       "      <td>[2143, 29, 2, 1506, 1, 231, 447, 121, 593, 270...</td>\n",
       "    </tr>\n",
       "    <tr>\n",
       "      <th>6</th>\n",
       "      <td>housing</td>\n",
       "      <td>2</td>\n",
       "      <td>[yes, no]</td>\n",
       "    </tr>\n",
       "    <tr>\n",
       "      <th>7</th>\n",
       "      <td>loan</td>\n",
       "      <td>2</td>\n",
       "      <td>[no, yes]</td>\n",
       "    </tr>\n",
       "    <tr>\n",
       "      <th>8</th>\n",
       "      <td>contact</td>\n",
       "      <td>3</td>\n",
       "      <td>[unknown, cellular, telephone]</td>\n",
       "    </tr>\n",
       "    <tr>\n",
       "      <th>9</th>\n",
       "      <td>day</td>\n",
       "      <td>31</td>\n",
       "      <td>[5, 6, 7, 8, 9, 12, 13, 14, 15, 16, 19, 20, 21...</td>\n",
       "    </tr>\n",
       "    <tr>\n",
       "      <th>10</th>\n",
       "      <td>month</td>\n",
       "      <td>12</td>\n",
       "      <td>[may, jun, jul, aug, oct, nov, dec, jan, feb, ...</td>\n",
       "    </tr>\n",
       "    <tr>\n",
       "      <th>11</th>\n",
       "      <td>duration</td>\n",
       "      <td>1573</td>\n",
       "      <td>[261, 151, 76, 92, 198, 139, 217, 380, 50, 55,...</td>\n",
       "    </tr>\n",
       "    <tr>\n",
       "      <th>12</th>\n",
       "      <td>campaign</td>\n",
       "      <td>48</td>\n",
       "      <td>[1, 2, 3, 5, 4, 6, 7, 8, 9, 10, 11, 12, 13, 19...</td>\n",
       "    </tr>\n",
       "    <tr>\n",
       "      <th>13</th>\n",
       "      <td>pdays</td>\n",
       "      <td>559</td>\n",
       "      <td>[-1, 151, 166, 91, 86, 143, 147, 89, 140, 176,...</td>\n",
       "    </tr>\n",
       "    <tr>\n",
       "      <th>14</th>\n",
       "      <td>previous</td>\n",
       "      <td>41</td>\n",
       "      <td>[0, 3, 1, 4, 2, 11, 16, 6, 5, 10, 12, 7, 18, 9...</td>\n",
       "    </tr>\n",
       "    <tr>\n",
       "      <th>15</th>\n",
       "      <td>poutcome</td>\n",
       "      <td>4</td>\n",
       "      <td>[unknown, failure, other, success]</td>\n",
       "    </tr>\n",
       "    <tr>\n",
       "      <th>16</th>\n",
       "      <td>y</td>\n",
       "      <td>2</td>\n",
       "      <td>[no, yes]</td>\n",
       "    </tr>\n",
       "  </tbody>\n",
       "</table>\n",
       "</div>"
      ],
      "text/plain": [
       "     Features  Unique Number  \\\n",
       "0         age             77   \n",
       "1         job             12   \n",
       "2     marital              3   \n",
       "3   education              4   \n",
       "4     default              2   \n",
       "5     balance           7168   \n",
       "6     housing              2   \n",
       "7        loan              2   \n",
       "8     contact              3   \n",
       "9         day             31   \n",
       "10      month             12   \n",
       "11   duration           1573   \n",
       "12   campaign             48   \n",
       "13      pdays            559   \n",
       "14   previous             41   \n",
       "15   poutcome              4   \n",
       "16          y              2   \n",
       "\n",
       "                                               Values  \n",
       "0   [58, 44, 33, 47, 35, 28, 42, 43, 41, 29, 53, 5...  \n",
       "1   [management, technician, entrepreneur, blue-co...  \n",
       "2                         [married, single, divorced]  \n",
       "3             [tertiary, secondary, unknown, primary]  \n",
       "4                                           [no, yes]  \n",
       "5   [2143, 29, 2, 1506, 1, 231, 447, 121, 593, 270...  \n",
       "6                                           [yes, no]  \n",
       "7                                           [no, yes]  \n",
       "8                      [unknown, cellular, telephone]  \n",
       "9   [5, 6, 7, 8, 9, 12, 13, 14, 15, 16, 19, 20, 21...  \n",
       "10  [may, jun, jul, aug, oct, nov, dec, jan, feb, ...  \n",
       "11  [261, 151, 76, 92, 198, 139, 217, 380, 50, 55,...  \n",
       "12  [1, 2, 3, 5, 4, 6, 7, 8, 9, 10, 11, 12, 13, 19...  \n",
       "13  [-1, 151, 166, 91, 86, 143, 147, 89, 140, 176,...  \n",
       "14  [0, 3, 1, 4, 2, 11, 16, 6, 5, 10, 12, 7, 18, 9...  \n",
       "15                 [unknown, failure, other, success]  \n",
       "16                                          [no, yes]  "
      ]
     },
     "execution_count": 10,
     "metadata": {},
     "output_type": "execute_result"
    }
   ],
   "source": [
    "# mengecek unique features\n",
    "unfe = []\n",
    "for i in df.columns:\n",
    "    unfe.append([i, df[i].nunique(), df[i].drop_duplicates().values])\n",
    "\n",
    "unique = pd.DataFrame(unfe,columns=[\"Features\", \"Unique Number\", \"Values\"])\n",
    "unique"
   ]
  },
  {
   "cell_type": "code",
   "execution_count": 11,
   "id": "07187497-d2f6-40a8-87bc-dcab3e8e9788",
   "metadata": {},
   "outputs": [],
   "source": [
    "df = df.drop([ 'day', 'month', 'pdays', 'contact', 'duration','previous', 'poutcome'],axis=1)"
   ]
  },
  {
   "cell_type": "code",
   "execution_count": 12,
   "id": "da616252-38cc-4890-8eb4-ed4a8fd1a4f1",
   "metadata": {},
   "outputs": [
    {
     "data": {
      "text/html": [
       "<div>\n",
       "<style scoped>\n",
       "    .dataframe tbody tr th:only-of-type {\n",
       "        vertical-align: middle;\n",
       "    }\n",
       "\n",
       "    .dataframe tbody tr th {\n",
       "        vertical-align: top;\n",
       "    }\n",
       "\n",
       "    .dataframe thead th {\n",
       "        text-align: right;\n",
       "    }\n",
       "</style>\n",
       "<table border=\"1\" class=\"dataframe\">\n",
       "  <thead>\n",
       "    <tr style=\"text-align: right;\">\n",
       "      <th></th>\n",
       "      <th>age</th>\n",
       "      <th>job</th>\n",
       "      <th>marital</th>\n",
       "      <th>education</th>\n",
       "      <th>default</th>\n",
       "      <th>balance</th>\n",
       "      <th>housing</th>\n",
       "      <th>loan</th>\n",
       "      <th>campaign</th>\n",
       "      <th>y</th>\n",
       "    </tr>\n",
       "  </thead>\n",
       "  <tbody>\n",
       "    <tr>\n",
       "      <th>0</th>\n",
       "      <td>58</td>\n",
       "      <td>management</td>\n",
       "      <td>married</td>\n",
       "      <td>tertiary</td>\n",
       "      <td>no</td>\n",
       "      <td>2143</td>\n",
       "      <td>yes</td>\n",
       "      <td>no</td>\n",
       "      <td>1</td>\n",
       "      <td>no</td>\n",
       "    </tr>\n",
       "    <tr>\n",
       "      <th>1</th>\n",
       "      <td>44</td>\n",
       "      <td>technician</td>\n",
       "      <td>single</td>\n",
       "      <td>secondary</td>\n",
       "      <td>no</td>\n",
       "      <td>29</td>\n",
       "      <td>yes</td>\n",
       "      <td>no</td>\n",
       "      <td>1</td>\n",
       "      <td>no</td>\n",
       "    </tr>\n",
       "    <tr>\n",
       "      <th>2</th>\n",
       "      <td>33</td>\n",
       "      <td>entrepreneur</td>\n",
       "      <td>married</td>\n",
       "      <td>secondary</td>\n",
       "      <td>no</td>\n",
       "      <td>2</td>\n",
       "      <td>yes</td>\n",
       "      <td>yes</td>\n",
       "      <td>1</td>\n",
       "      <td>no</td>\n",
       "    </tr>\n",
       "    <tr>\n",
       "      <th>3</th>\n",
       "      <td>47</td>\n",
       "      <td>blue-collar</td>\n",
       "      <td>married</td>\n",
       "      <td>unknown</td>\n",
       "      <td>no</td>\n",
       "      <td>1506</td>\n",
       "      <td>yes</td>\n",
       "      <td>no</td>\n",
       "      <td>1</td>\n",
       "      <td>no</td>\n",
       "    </tr>\n",
       "    <tr>\n",
       "      <th>4</th>\n",
       "      <td>33</td>\n",
       "      <td>unknown</td>\n",
       "      <td>single</td>\n",
       "      <td>unknown</td>\n",
       "      <td>no</td>\n",
       "      <td>1</td>\n",
       "      <td>no</td>\n",
       "      <td>no</td>\n",
       "      <td>1</td>\n",
       "      <td>no</td>\n",
       "    </tr>\n",
       "  </tbody>\n",
       "</table>\n",
       "</div>"
      ],
      "text/plain": [
       "   age           job  marital  education default  balance housing loan  \\\n",
       "0   58    management  married   tertiary      no     2143     yes   no   \n",
       "1   44    technician   single  secondary      no       29     yes   no   \n",
       "2   33  entrepreneur  married  secondary      no        2     yes  yes   \n",
       "3   47   blue-collar  married    unknown      no     1506     yes   no   \n",
       "4   33       unknown   single    unknown      no        1      no   no   \n",
       "\n",
       "   campaign   y  \n",
       "0         1  no  \n",
       "1         1  no  \n",
       "2         1  no  \n",
       "3         1  no  \n",
       "4         1  no  "
      ]
     },
     "execution_count": 12,
     "metadata": {},
     "output_type": "execute_result"
    }
   ],
   "source": [
    "df.head()"
   ]
  },
  {
   "cell_type": "code",
   "execution_count": 13,
   "id": "45f894ec-8321-4df4-b5f7-1f7ccac3c9f0",
   "metadata": {},
   "outputs": [
    {
     "data": {
      "text/html": [
       "<div>\n",
       "<style scoped>\n",
       "    .dataframe tbody tr th:only-of-type {\n",
       "        vertical-align: middle;\n",
       "    }\n",
       "\n",
       "    .dataframe tbody tr th {\n",
       "        vertical-align: top;\n",
       "    }\n",
       "\n",
       "    .dataframe thead th {\n",
       "        text-align: right;\n",
       "    }\n",
       "</style>\n",
       "<table border=\"1\" class=\"dataframe\">\n",
       "  <thead>\n",
       "    <tr style=\"text-align: right;\">\n",
       "      <th></th>\n",
       "      <th>age</th>\n",
       "      <th>job</th>\n",
       "      <th>marital</th>\n",
       "      <th>education</th>\n",
       "      <th>default</th>\n",
       "      <th>balance</th>\n",
       "      <th>housing</th>\n",
       "      <th>loan</th>\n",
       "      <th>campaign</th>\n",
       "      <th>y</th>\n",
       "    </tr>\n",
       "  </thead>\n",
       "  <tbody>\n",
       "    <tr>\n",
       "      <th>45206</th>\n",
       "      <td>51</td>\n",
       "      <td>technician</td>\n",
       "      <td>married</td>\n",
       "      <td>tertiary</td>\n",
       "      <td>no</td>\n",
       "      <td>825</td>\n",
       "      <td>no</td>\n",
       "      <td>no</td>\n",
       "      <td>3</td>\n",
       "      <td>yes</td>\n",
       "    </tr>\n",
       "    <tr>\n",
       "      <th>45207</th>\n",
       "      <td>71</td>\n",
       "      <td>retired</td>\n",
       "      <td>divorced</td>\n",
       "      <td>primary</td>\n",
       "      <td>no</td>\n",
       "      <td>1729</td>\n",
       "      <td>no</td>\n",
       "      <td>no</td>\n",
       "      <td>2</td>\n",
       "      <td>yes</td>\n",
       "    </tr>\n",
       "    <tr>\n",
       "      <th>45208</th>\n",
       "      <td>72</td>\n",
       "      <td>retired</td>\n",
       "      <td>married</td>\n",
       "      <td>secondary</td>\n",
       "      <td>no</td>\n",
       "      <td>5715</td>\n",
       "      <td>no</td>\n",
       "      <td>no</td>\n",
       "      <td>5</td>\n",
       "      <td>yes</td>\n",
       "    </tr>\n",
       "    <tr>\n",
       "      <th>45209</th>\n",
       "      <td>57</td>\n",
       "      <td>blue-collar</td>\n",
       "      <td>married</td>\n",
       "      <td>secondary</td>\n",
       "      <td>no</td>\n",
       "      <td>668</td>\n",
       "      <td>no</td>\n",
       "      <td>no</td>\n",
       "      <td>4</td>\n",
       "      <td>no</td>\n",
       "    </tr>\n",
       "    <tr>\n",
       "      <th>45210</th>\n",
       "      <td>37</td>\n",
       "      <td>entrepreneur</td>\n",
       "      <td>married</td>\n",
       "      <td>secondary</td>\n",
       "      <td>no</td>\n",
       "      <td>2971</td>\n",
       "      <td>no</td>\n",
       "      <td>no</td>\n",
       "      <td>2</td>\n",
       "      <td>no</td>\n",
       "    </tr>\n",
       "  </tbody>\n",
       "</table>\n",
       "</div>"
      ],
      "text/plain": [
       "       age           job   marital  education default  balance housing loan  \\\n",
       "45206   51    technician   married   tertiary      no      825      no   no   \n",
       "45207   71       retired  divorced    primary      no     1729      no   no   \n",
       "45208   72       retired   married  secondary      no     5715      no   no   \n",
       "45209   57   blue-collar   married  secondary      no      668      no   no   \n",
       "45210   37  entrepreneur   married  secondary      no     2971      no   no   \n",
       "\n",
       "       campaign    y  \n",
       "45206         3  yes  \n",
       "45207         2  yes  \n",
       "45208         5  yes  \n",
       "45209         4   no  \n",
       "45210         2   no  "
      ]
     },
     "execution_count": 13,
     "metadata": {},
     "output_type": "execute_result"
    }
   ],
   "source": [
    "df.tail()"
   ]
  },
  {
   "cell_type": "code",
   "execution_count": 14,
   "id": "4af5313a-9b71-4f58-938d-1c252a83dc45",
   "metadata": {},
   "outputs": [
    {
     "name": "stdout",
     "output_type": "stream",
     "text": [
      "<class 'pandas.core.frame.DataFrame'>\n",
      "RangeIndex: 45211 entries, 0 to 45210\n",
      "Data columns (total 10 columns):\n",
      " #   Column     Non-Null Count  Dtype \n",
      "---  ------     --------------  ----- \n",
      " 0   age        45211 non-null  int64 \n",
      " 1   job        45211 non-null  object\n",
      " 2   marital    45211 non-null  object\n",
      " 3   education  45211 non-null  object\n",
      " 4   default    45211 non-null  object\n",
      " 5   balance    45211 non-null  int64 \n",
      " 6   housing    45211 non-null  object\n",
      " 7   loan       45211 non-null  object\n",
      " 8   campaign   45211 non-null  int64 \n",
      " 9   y          45211 non-null  object\n",
      "dtypes: int64(3), object(7)\n",
      "memory usage: 3.4+ MB\n"
     ]
    }
   ],
   "source": [
    "df.info()"
   ]
  },
  {
   "cell_type": "code",
   "execution_count": 15,
   "id": "207bd831-8b55-4de4-ac2d-74227ed9d6d2",
   "metadata": {},
   "outputs": [
    {
     "data": {
      "text/html": [
       "<div>\n",
       "<style scoped>\n",
       "    .dataframe tbody tr th:only-of-type {\n",
       "        vertical-align: middle;\n",
       "    }\n",
       "\n",
       "    .dataframe tbody tr th {\n",
       "        vertical-align: top;\n",
       "    }\n",
       "\n",
       "    .dataframe thead th {\n",
       "        text-align: right;\n",
       "    }\n",
       "</style>\n",
       "<table border=\"1\" class=\"dataframe\">\n",
       "  <thead>\n",
       "    <tr style=\"text-align: right;\">\n",
       "      <th></th>\n",
       "      <th>count</th>\n",
       "      <th>mean</th>\n",
       "      <th>std</th>\n",
       "      <th>min</th>\n",
       "      <th>25%</th>\n",
       "      <th>50%</th>\n",
       "      <th>75%</th>\n",
       "      <th>max</th>\n",
       "    </tr>\n",
       "  </thead>\n",
       "  <tbody>\n",
       "    <tr>\n",
       "      <th>age</th>\n",
       "      <td>45211.0</td>\n",
       "      <td>40.936210</td>\n",
       "      <td>10.618762</td>\n",
       "      <td>18.0</td>\n",
       "      <td>33.0</td>\n",
       "      <td>39.0</td>\n",
       "      <td>48.0</td>\n",
       "      <td>95.0</td>\n",
       "    </tr>\n",
       "    <tr>\n",
       "      <th>balance</th>\n",
       "      <td>45211.0</td>\n",
       "      <td>1362.272058</td>\n",
       "      <td>3044.765829</td>\n",
       "      <td>-8019.0</td>\n",
       "      <td>72.0</td>\n",
       "      <td>448.0</td>\n",
       "      <td>1428.0</td>\n",
       "      <td>102127.0</td>\n",
       "    </tr>\n",
       "    <tr>\n",
       "      <th>campaign</th>\n",
       "      <td>45211.0</td>\n",
       "      <td>2.763841</td>\n",
       "      <td>3.098021</td>\n",
       "      <td>1.0</td>\n",
       "      <td>1.0</td>\n",
       "      <td>2.0</td>\n",
       "      <td>3.0</td>\n",
       "      <td>63.0</td>\n",
       "    </tr>\n",
       "  </tbody>\n",
       "</table>\n",
       "</div>"
      ],
      "text/plain": [
       "            count         mean          std     min   25%    50%     75%  \\\n",
       "age       45211.0    40.936210    10.618762    18.0  33.0   39.0    48.0   \n",
       "balance   45211.0  1362.272058  3044.765829 -8019.0  72.0  448.0  1428.0   \n",
       "campaign  45211.0     2.763841     3.098021     1.0   1.0    2.0     3.0   \n",
       "\n",
       "               max  \n",
       "age           95.0  \n",
       "balance   102127.0  \n",
       "campaign      63.0  "
      ]
     },
     "execution_count": 15,
     "metadata": {},
     "output_type": "execute_result"
    }
   ],
   "source": [
    "df.describe().T"
   ]
  },
  {
   "cell_type": "markdown",
   "id": "14092250-fb9f-4717-8302-77ca2cf91f64",
   "metadata": {
    "tags": []
   },
   "source": [
    "## Data Preprocessing"
   ]
  },
  {
   "cell_type": "markdown",
   "id": "df58e454-6ac2-455d-9695-36fcf2fc6caf",
   "metadata": {},
   "source": [
    "### missing value handling"
   ]
  },
  {
   "cell_type": "code",
   "execution_count": 16,
   "id": "37fc2fe4-2bb9-435a-a0fe-f64a5205d08e",
   "metadata": {},
   "outputs": [
    {
     "data": {
      "text/plain": [
       "age          0\n",
       "job          0\n",
       "marital      0\n",
       "education    0\n",
       "default      0\n",
       "balance      0\n",
       "housing      0\n",
       "loan         0\n",
       "campaign     0\n",
       "y            0\n",
       "dtype: int64"
      ]
     },
     "execution_count": 16,
     "metadata": {},
     "output_type": "execute_result"
    }
   ],
   "source": [
    "df.isna().sum()"
   ]
  },
  {
   "cell_type": "markdown",
   "id": "592a1734-900e-4778-b285-492f92075615",
   "metadata": {},
   "source": [
    "there is no  missing value"
   ]
  },
  {
   "cell_type": "markdown",
   "id": "9e2c33fb-8625-48c2-8d6d-c2cc3d55a721",
   "metadata": {},
   "source": [
    "### Checking & Handling Outliers"
   ]
  },
  {
   "cell_type": "code",
   "execution_count": 17,
   "id": "5ce0427d-6c88-4dd5-9515-651dee7e4da9",
   "metadata": {},
   "outputs": [],
   "source": [
    "def find_outlier(data):\n",
    "    Q1 = np.quantile(data, .25)\n",
    "    Q3 = np.quantile(data, .75)\n",
    "    \n",
    "    IQR = Q3-Q1\n",
    "    min_IQR = Q1-1.5*IQR\n",
    "    max_IQR = Q3+1.5*IQR\n",
    "    \n",
    "    low_out =[]\n",
    "    upper_out = []\n",
    "    \n",
    "    for i in data:\n",
    "        if(i<min_IQR):\n",
    "            low_out.append(i)\n",
    "        if (i > max_IQR):\n",
    "            upper_out.append(i)\n",
    "    return low_out, upper_out"
   ]
  },
  {
   "cell_type": "code",
   "execution_count": 18,
   "id": "293b707c-4110-4dab-aca9-ee54090ac0d6",
   "metadata": {},
   "outputs": [
    {
     "data": {
      "text/html": [
       "<div>\n",
       "<style scoped>\n",
       "    .dataframe tbody tr th:only-of-type {\n",
       "        vertical-align: middle;\n",
       "    }\n",
       "\n",
       "    .dataframe tbody tr th {\n",
       "        vertical-align: top;\n",
       "    }\n",
       "\n",
       "    .dataframe thead th {\n",
       "        text-align: right;\n",
       "    }\n",
       "</style>\n",
       "<table border=\"1\" class=\"dataframe\">\n",
       "  <thead>\n",
       "    <tr style=\"text-align: right;\">\n",
       "      <th></th>\n",
       "      <th>Jumlah Outlier</th>\n",
       "      <th>Persentase Outlier</th>\n",
       "    </tr>\n",
       "  </thead>\n",
       "  <tbody>\n",
       "    <tr>\n",
       "      <th>balance</th>\n",
       "      <td>4729</td>\n",
       "      <td>10.459844</td>\n",
       "    </tr>\n",
       "    <tr>\n",
       "      <th>campaign</th>\n",
       "      <td>3064</td>\n",
       "      <td>6.777112</td>\n",
       "    </tr>\n",
       "    <tr>\n",
       "      <th>age</th>\n",
       "      <td>487</td>\n",
       "      <td>1.077171</td>\n",
       "    </tr>\n",
       "  </tbody>\n",
       "</table>\n",
       "</div>"
      ],
      "text/plain": [
       "          Jumlah Outlier  Persentase Outlier\n",
       "balance             4729           10.459844\n",
       "campaign            3064            6.777112\n",
       "age                  487            1.077171"
      ]
     },
     "execution_count": 18,
     "metadata": {},
     "output_type": "execute_result"
    }
   ],
   "source": [
    "lower_out = [find_outlier(df[i])[0] for i in df.columns[df.dtypes != object]]\n",
    "upper_out = [find_outlier(df[i])[1] for i in df.columns[df.dtypes != object]]\n",
    "\n",
    "outlier = pd.DataFrame({\n",
    "    \"Jumlah Outlier\":[len(i) + len(j) for i,j in zip(lower_out,upper_out)],\n",
    "    \"Persentase Outlier\":[(len(i) + len(j)) / len(df) * 100 for i,j in zip(lower_out,upper_out)]\n",
    "}).set_index(df.columns[df.dtypes != object]).sort_values(\"Jumlah Outlier\",ascending=False)\n",
    "outlier"
   ]
  },
  {
   "cell_type": "code",
   "execution_count": 19,
   "id": "9f11e997-7837-4b90-abe4-d8b1cbbdf7b7",
   "metadata": {},
   "outputs": [
    {
     "data": {
      "image/png": "[encoded data removed]",
      "text/plain": [
       "<Figure size 720x360 with 1 Axes>"
      ]
     },
     "metadata": {
      "needs_background": "light"
     },
     "output_type": "display_data"
    },
    {
     "data": {
      "image/png": "[encoded data removed]",
      "text/plain": [
       "<Figure size 720x360 with 1 Axes>"
      ]
     },
     "metadata": {
      "needs_background": "light"
     },
     "output_type": "display_data"
    },
    {
     "data": {
      "image/png": "[encoded data removed]",
      "text/plain": [
       "<Figure size 720x360 with 1 Axes>"
      ]
     },
     "metadata": {
      "needs_background": "light"
     },
     "output_type": "display_data"
    }
   ],
   "source": [
    "for i in df[['age', 'campaign', 'balance']]:   \n",
    "    plt.figure(figsize=(10,5))\n",
    "    sns.boxplot(data=df,x=df[i])\n",
    "    plt.title(f\"Box Plot of {i}\")\n",
    "plt.show()"
   ]
  },
  {
   "cell_type": "code",
   "execution_count": 20,
   "id": "90acc29e-831f-4f84-80db-32d0a6d1e017",
   "metadata": {},
   "outputs": [],
   "source": [
    "# Find outlier using IQR\n",
    "def outliers(df_new):\n",
    "    Q1 = np.quantile(df_new, .25)\n",
    "    Q3 = np.quantile(df_new, .75)\n",
    "    #\n",
    "    IQR = Q3-Q1\n",
    "    min_IQR = Q1-1.5*IQR\n",
    "    max_IQR = Q3+1.5*IQR\n",
    "    #\n",
    "    low_out =[]\n",
    "    upper_out = []\n",
    "    #\n",
    "    for i in df_new:\n",
    "        if(i<min_IQR):\n",
    "            low_out.append(i)\n",
    "        if (i > max_IQR):\n",
    "            upper_out.append(i)\n",
    "    return low_out, upper_out"
   ]
  },
  {
   "cell_type": "code",
   "execution_count": 21,
   "id": "f3e76095-139b-4ea5-82b9-940c203ff01f",
   "metadata": {},
   "outputs": [],
   "source": [
    "df_new = df.copy()\n",
    "outlier_dict = {}\n",
    "for i in df_new:\n",
    "     if (df_new[i].dtypes == 'int64'): \n",
    "        lower_out = outliers(df_new[i])[0]\n",
    "        upper_out = outliers(df_new[i])[1]\n",
    "        outlier_dict[i] = (lower_out, upper_out)"
   ]
  },
  {
   "cell_type": "code",
   "execution_count": 22,
   "id": "77d4cdf3-0313-4209-857f-1816e7ca86f6",
   "metadata": {},
   "outputs": [],
   "source": [
    "df_new = df.copy()\n",
    "for i in df_new[['age', 'balance', 'campaign']]:\n",
    "    if (df_new[i].dtypes == 'int64'):\n",
    "        threshold = min(outlier_dict[i][1])\n",
    "        df_new = df_new[df_new[i]< threshold]"
   ]
  },
  {
   "cell_type": "code",
   "execution_count": 23,
   "id": "b5222988-053a-4b7a-a315-bc0ce18cff4f",
   "metadata": {},
   "outputs": [],
   "source": [
    "### df_new overview"
   ]
  },
  {
   "cell_type": "code",
   "execution_count": 24,
   "id": "7e2dea9e-2a05-40eb-a3f7-634993e103b6",
   "metadata": {},
   "outputs": [
    {
     "data": {
      "text/html": [
       "<div>\n",
       "<style scoped>\n",
       "    .dataframe tbody tr th:only-of-type {\n",
       "        vertical-align: middle;\n",
       "    }\n",
       "\n",
       "    .dataframe tbody tr th {\n",
       "        vertical-align: top;\n",
       "    }\n",
       "\n",
       "    .dataframe thead th {\n",
       "        text-align: right;\n",
       "    }\n",
       "</style>\n",
       "<table border=\"1\" class=\"dataframe\">\n",
       "  <thead>\n",
       "    <tr style=\"text-align: right;\">\n",
       "      <th></th>\n",
       "      <th>age</th>\n",
       "      <th>job</th>\n",
       "      <th>marital</th>\n",
       "      <th>education</th>\n",
       "      <th>default</th>\n",
       "      <th>balance</th>\n",
       "      <th>housing</th>\n",
       "      <th>loan</th>\n",
       "      <th>campaign</th>\n",
       "      <th>y</th>\n",
       "    </tr>\n",
       "  </thead>\n",
       "  <tbody>\n",
       "    <tr>\n",
       "      <th>0</th>\n",
       "      <td>58</td>\n",
       "      <td>management</td>\n",
       "      <td>married</td>\n",
       "      <td>tertiary</td>\n",
       "      <td>no</td>\n",
       "      <td>2143</td>\n",
       "      <td>yes</td>\n",
       "      <td>no</td>\n",
       "      <td>1</td>\n",
       "      <td>no</td>\n",
       "    </tr>\n",
       "    <tr>\n",
       "      <th>1</th>\n",
       "      <td>44</td>\n",
       "      <td>technician</td>\n",
       "      <td>single</td>\n",
       "      <td>secondary</td>\n",
       "      <td>no</td>\n",
       "      <td>29</td>\n",
       "      <td>yes</td>\n",
       "      <td>no</td>\n",
       "      <td>1</td>\n",
       "      <td>no</td>\n",
       "    </tr>\n",
       "    <tr>\n",
       "      <th>2</th>\n",
       "      <td>33</td>\n",
       "      <td>entrepreneur</td>\n",
       "      <td>married</td>\n",
       "      <td>secondary</td>\n",
       "      <td>no</td>\n",
       "      <td>2</td>\n",
       "      <td>yes</td>\n",
       "      <td>yes</td>\n",
       "      <td>1</td>\n",
       "      <td>no</td>\n",
       "    </tr>\n",
       "    <tr>\n",
       "      <th>3</th>\n",
       "      <td>47</td>\n",
       "      <td>blue-collar</td>\n",
       "      <td>married</td>\n",
       "      <td>unknown</td>\n",
       "      <td>no</td>\n",
       "      <td>1506</td>\n",
       "      <td>yes</td>\n",
       "      <td>no</td>\n",
       "      <td>1</td>\n",
       "      <td>no</td>\n",
       "    </tr>\n",
       "    <tr>\n",
       "      <th>4</th>\n",
       "      <td>33</td>\n",
       "      <td>unknown</td>\n",
       "      <td>single</td>\n",
       "      <td>unknown</td>\n",
       "      <td>no</td>\n",
       "      <td>1</td>\n",
       "      <td>no</td>\n",
       "      <td>no</td>\n",
       "      <td>1</td>\n",
       "      <td>no</td>\n",
       "    </tr>\n",
       "  </tbody>\n",
       "</table>\n",
       "</div>"
      ],
      "text/plain": [
       "   age           job  marital  education default  balance housing loan  \\\n",
       "0   58    management  married   tertiary      no     2143     yes   no   \n",
       "1   44    technician   single  secondary      no       29     yes   no   \n",
       "2   33  entrepreneur  married  secondary      no        2     yes  yes   \n",
       "3   47   blue-collar  married    unknown      no     1506     yes   no   \n",
       "4   33       unknown   single    unknown      no        1      no   no   \n",
       "\n",
       "   campaign   y  \n",
       "0         1  no  \n",
       "1         1  no  \n",
       "2         1  no  \n",
       "3         1  no  \n",
       "4         1  no  "
      ]
     },
     "execution_count": 24,
     "metadata": {},
     "output_type": "execute_result"
    }
   ],
   "source": [
    "df_new.head()"
   ]
  },
  {
   "cell_type": "code",
   "execution_count": 25,
   "id": "6760a517-68d2-484c-90f8-445da77f10fd",
   "metadata": {},
   "outputs": [
    {
     "data": {
      "text/html": [
       "<div>\n",
       "<style scoped>\n",
       "    .dataframe tbody tr th:only-of-type {\n",
       "        vertical-align: middle;\n",
       "    }\n",
       "\n",
       "    .dataframe tbody tr th {\n",
       "        vertical-align: top;\n",
       "    }\n",
       "\n",
       "    .dataframe thead th {\n",
       "        text-align: right;\n",
       "    }\n",
       "</style>\n",
       "<table border=\"1\" class=\"dataframe\">\n",
       "  <thead>\n",
       "    <tr style=\"text-align: right;\">\n",
       "      <th></th>\n",
       "      <th>count</th>\n",
       "      <th>mean</th>\n",
       "      <th>std</th>\n",
       "      <th>min</th>\n",
       "      <th>25%</th>\n",
       "      <th>50%</th>\n",
       "      <th>75%</th>\n",
       "      <th>max</th>\n",
       "    </tr>\n",
       "  </thead>\n",
       "  <tbody>\n",
       "    <tr>\n",
       "      <th>age</th>\n",
       "      <td>37368.0</td>\n",
       "      <td>40.263220</td>\n",
       "      <td>9.937012</td>\n",
       "      <td>18.0</td>\n",
       "      <td>32.0</td>\n",
       "      <td>39.0</td>\n",
       "      <td>48.0</td>\n",
       "      <td>70.0</td>\n",
       "    </tr>\n",
       "    <tr>\n",
       "      <th>balance</th>\n",
       "      <td>37368.0</td>\n",
       "      <td>638.569230</td>\n",
       "      <td>846.984206</td>\n",
       "      <td>-8019.0</td>\n",
       "      <td>47.0</td>\n",
       "      <td>350.0</td>\n",
       "      <td>979.0</td>\n",
       "      <td>3462.0</td>\n",
       "    </tr>\n",
       "    <tr>\n",
       "      <th>campaign</th>\n",
       "      <td>37368.0</td>\n",
       "      <td>2.134928</td>\n",
       "      <td>1.317559</td>\n",
       "      <td>1.0</td>\n",
       "      <td>1.0</td>\n",
       "      <td>2.0</td>\n",
       "      <td>3.0</td>\n",
       "      <td>6.0</td>\n",
       "    </tr>\n",
       "  </tbody>\n",
       "</table>\n",
       "</div>"
      ],
      "text/plain": [
       "            count        mean         std     min   25%    50%    75%     max\n",
       "age       37368.0   40.263220    9.937012    18.0  32.0   39.0   48.0    70.0\n",
       "balance   37368.0  638.569230  846.984206 -8019.0  47.0  350.0  979.0  3462.0\n",
       "campaign  37368.0    2.134928    1.317559     1.0   1.0    2.0    3.0     6.0"
      ]
     },
     "execution_count": 25,
     "metadata": {},
     "output_type": "execute_result"
    }
   ],
   "source": [
    "df_new.describe().T"
   ]
  },
  {
   "cell_type": "code",
   "execution_count": 26,
   "id": "45653ca5-d1a2-4999-8ddc-d9010dd6c572",
   "metadata": {},
   "outputs": [
    {
     "data": {
      "text/plain": [
       "no     33142\n",
       "yes     4226\n",
       "Name: y, dtype: int64"
      ]
     },
     "execution_count": 26,
     "metadata": {},
     "output_type": "execute_result"
    }
   ],
   "source": [
    "df_new['y'].value_counts()"
   ]
  },
  {
   "cell_type": "code",
   "execution_count": 27,
   "id": "60c11a53-03a2-4bad-872a-753d9560589b",
   "metadata": {},
   "outputs": [
    {
     "data": {
      "text/plain": [
       "secondary    19737\n",
       "tertiary     10600\n",
       "primary       5564\n",
       "unknown       1467\n",
       "Name: education, dtype: int64"
      ]
     },
     "execution_count": 27,
     "metadata": {},
     "output_type": "execute_result"
    }
   ],
   "source": [
    "df_new['education'].value_counts()"
   ]
  },
  {
   "cell_type": "code",
   "execution_count": 28,
   "id": "ff6cc15b-b2b9-4a7e-a80d-feb28c32f04e",
   "metadata": {},
   "outputs": [],
   "source": [
    "df_new.to_csv('Bank_ready.csv', index = False)"
   ]
  },
  {
   "cell_type": "markdown",
   "id": "7469c317-ecda-4a3a-8b1d-788d58e0c758",
   "metadata": {},
   "source": [
    "## Feature Engineering"
   ]
  },
  {
   "cell_type": "markdown",
   "id": "1e8b0286-a8da-4e92-889e-6ffbb697a2d3",
   "metadata": {},
   "source": [
    "### Scaling"
   ]
  },
  {
   "cell_type": "code",
   "execution_count": 29,
   "id": "a6afe885-dd34-4b70-9a23-600ff4e795e6",
   "metadata": {},
   "outputs": [],
   "source": [
    "#import lib\n",
    "from sklearn.preprocessing import StandardScaler, MinMaxScaler, RobustScaler\n",
    "scaler = MinMaxScaler()"
   ]
  },
  {
   "cell_type": "code",
   "execution_count": 30,
   "id": "e37b7b31-13a4-41af-a6d6-be4020edb00a",
   "metadata": {},
   "outputs": [],
   "source": [
    "df1=df_new.copy()"
   ]
  },
  {
   "cell_type": "code",
   "execution_count": 31,
   "id": "3b086feb-fc49-4f6d-aa33-e968f6b4a3b4",
   "metadata": {},
   "outputs": [],
   "source": [
    "for i in df1:\n",
    "    if (df_new[i].dtypes == 'int64'):\n",
    "        df1[i]=scaler.fit_transform(df1[[i]])"
   ]
  },
  {
   "cell_type": "code",
   "execution_count": 32,
   "id": "400d1bfe-58c8-4a28-b611-7c8e61ea7ef8",
   "metadata": {},
   "outputs": [
    {
     "data": {
      "text/html": [
       "<div>\n",
       "<style scoped>\n",
       "    .dataframe tbody tr th:only-of-type {\n",
       "        vertical-align: middle;\n",
       "    }\n",
       "\n",
       "    .dataframe tbody tr th {\n",
       "        vertical-align: top;\n",
       "    }\n",
       "\n",
       "    .dataframe thead th {\n",
       "        text-align: right;\n",
       "    }\n",
       "</style>\n",
       "<table border=\"1\" class=\"dataframe\">\n",
       "  <thead>\n",
       "    <tr style=\"text-align: right;\">\n",
       "      <th></th>\n",
       "      <th>age</th>\n",
       "      <th>job</th>\n",
       "      <th>marital</th>\n",
       "      <th>education</th>\n",
       "      <th>default</th>\n",
       "      <th>balance</th>\n",
       "      <th>housing</th>\n",
       "      <th>loan</th>\n",
       "      <th>campaign</th>\n",
       "      <th>y</th>\n",
       "    </tr>\n",
       "  </thead>\n",
       "  <tbody>\n",
       "    <tr>\n",
       "      <th>0</th>\n",
       "      <td>0.769231</td>\n",
       "      <td>management</td>\n",
       "      <td>married</td>\n",
       "      <td>tertiary</td>\n",
       "      <td>no</td>\n",
       "      <td>0.885115</td>\n",
       "      <td>yes</td>\n",
       "      <td>no</td>\n",
       "      <td>0.0</td>\n",
       "      <td>no</td>\n",
       "    </tr>\n",
       "    <tr>\n",
       "      <th>1</th>\n",
       "      <td>0.500000</td>\n",
       "      <td>technician</td>\n",
       "      <td>single</td>\n",
       "      <td>secondary</td>\n",
       "      <td>no</td>\n",
       "      <td>0.700984</td>\n",
       "      <td>yes</td>\n",
       "      <td>no</td>\n",
       "      <td>0.0</td>\n",
       "      <td>no</td>\n",
       "    </tr>\n",
       "    <tr>\n",
       "      <th>2</th>\n",
       "      <td>0.288462</td>\n",
       "      <td>entrepreneur</td>\n",
       "      <td>married</td>\n",
       "      <td>secondary</td>\n",
       "      <td>no</td>\n",
       "      <td>0.698633</td>\n",
       "      <td>yes</td>\n",
       "      <td>yes</td>\n",
       "      <td>0.0</td>\n",
       "      <td>no</td>\n",
       "    </tr>\n",
       "    <tr>\n",
       "      <th>3</th>\n",
       "      <td>0.557692</td>\n",
       "      <td>blue-collar</td>\n",
       "      <td>married</td>\n",
       "      <td>unknown</td>\n",
       "      <td>no</td>\n",
       "      <td>0.829632</td>\n",
       "      <td>yes</td>\n",
       "      <td>no</td>\n",
       "      <td>0.0</td>\n",
       "      <td>no</td>\n",
       "    </tr>\n",
       "    <tr>\n",
       "      <th>4</th>\n",
       "      <td>0.288462</td>\n",
       "      <td>unknown</td>\n",
       "      <td>single</td>\n",
       "      <td>unknown</td>\n",
       "      <td>no</td>\n",
       "      <td>0.698545</td>\n",
       "      <td>no</td>\n",
       "      <td>no</td>\n",
       "      <td>0.0</td>\n",
       "      <td>no</td>\n",
       "    </tr>\n",
       "  </tbody>\n",
       "</table>\n",
       "</div>"
      ],
      "text/plain": [
       "        age           job  marital  education default   balance housing loan  \\\n",
       "0  0.769231    management  married   tertiary      no  0.885115     yes   no   \n",
       "1  0.500000    technician   single  secondary      no  0.700984     yes   no   \n",
       "2  0.288462  entrepreneur  married  secondary      no  0.698633     yes  yes   \n",
       "3  0.557692   blue-collar  married    unknown      no  0.829632     yes   no   \n",
       "4  0.288462       unknown   single    unknown      no  0.698545      no   no   \n",
       "\n",
       "   campaign   y  \n",
       "0       0.0  no  \n",
       "1       0.0  no  \n",
       "2       0.0  no  \n",
       "3       0.0  no  \n",
       "4       0.0  no  "
      ]
     },
     "execution_count": 32,
     "metadata": {},
     "output_type": "execute_result"
    }
   ],
   "source": [
    "df1.head()"
   ]
  },
  {
   "cell_type": "markdown",
   "id": "98ef737a-9dfd-4171-9bd3-4f08e0b9de35",
   "metadata": {},
   "source": [
    "### Encoding"
   ]
  },
  {
   "cell_type": "code",
   "execution_count": 33,
   "id": "e8107b5a-0e8f-48d5-97a2-93d224dba019",
   "metadata": {},
   "outputs": [],
   "source": [
    "# import library untuk encoder\n",
    "from sklearn.preprocessing import LabelEncoder, OrdinalEncoder"
   ]
  },
  {
   "cell_type": "code",
   "execution_count": 34,
   "id": "26439f33-bda3-4612-916d-21edcd411df9",
   "metadata": {},
   "outputs": [],
   "source": [
    "# contoh dengan ordinal encoder, gunakan fit_transform untuk encode data\n",
    "df_enc = df1.copy()\n",
    "#education ordinal encoding with unknown class\n",
    "edu_order=['tertiary', 'secondary', 'primary', 'unknown']\n",
    "df_enc[\"education\"] = OrdinalEncoder(categories=[edu_order]).fit_transform(df_enc[[\"education\"]])"
   ]
  },
  {
   "cell_type": "code",
   "execution_count": 35,
   "id": "ad6c4bba-08ac-46b8-9a5c-3cca6ed955a7",
   "metadata": {},
   "outputs": [],
   "source": [
    "marital_order=['single', 'divorced', 'married']\n",
    "df_enc[\"marital\"] = OrdinalEncoder(categories=[marital_order]).fit_transform(df_enc[[\"marital\"]])"
   ]
  },
  {
   "cell_type": "code",
   "execution_count": 36,
   "id": "fb507374-fb8b-491e-9f51-62e631ae5ed3",
   "metadata": {},
   "outputs": [
    {
     "data": {
      "text/html": [
       "<div>\n",
       "<style scoped>\n",
       "    .dataframe tbody tr th:only-of-type {\n",
       "        vertical-align: middle;\n",
       "    }\n",
       "\n",
       "    .dataframe tbody tr th {\n",
       "        vertical-align: top;\n",
       "    }\n",
       "\n",
       "    .dataframe thead th {\n",
       "        text-align: right;\n",
       "    }\n",
       "</style>\n",
       "<table border=\"1\" class=\"dataframe\">\n",
       "  <thead>\n",
       "    <tr style=\"text-align: right;\">\n",
       "      <th></th>\n",
       "      <th>age</th>\n",
       "      <th>job</th>\n",
       "      <th>marital</th>\n",
       "      <th>education</th>\n",
       "      <th>default</th>\n",
       "      <th>balance</th>\n",
       "      <th>housing</th>\n",
       "      <th>loan</th>\n",
       "      <th>campaign</th>\n",
       "      <th>y</th>\n",
       "    </tr>\n",
       "  </thead>\n",
       "  <tbody>\n",
       "    <tr>\n",
       "      <th>0</th>\n",
       "      <td>0.769231</td>\n",
       "      <td>management</td>\n",
       "      <td>2.0</td>\n",
       "      <td>0.0</td>\n",
       "      <td>no</td>\n",
       "      <td>0.885115</td>\n",
       "      <td>yes</td>\n",
       "      <td>no</td>\n",
       "      <td>0.0</td>\n",
       "      <td>no</td>\n",
       "    </tr>\n",
       "    <tr>\n",
       "      <th>1</th>\n",
       "      <td>0.500000</td>\n",
       "      <td>technician</td>\n",
       "      <td>0.0</td>\n",
       "      <td>1.0</td>\n",
       "      <td>no</td>\n",
       "      <td>0.700984</td>\n",
       "      <td>yes</td>\n",
       "      <td>no</td>\n",
       "      <td>0.0</td>\n",
       "      <td>no</td>\n",
       "    </tr>\n",
       "    <tr>\n",
       "      <th>2</th>\n",
       "      <td>0.288462</td>\n",
       "      <td>entrepreneur</td>\n",
       "      <td>2.0</td>\n",
       "      <td>1.0</td>\n",
       "      <td>no</td>\n",
       "      <td>0.698633</td>\n",
       "      <td>yes</td>\n",
       "      <td>yes</td>\n",
       "      <td>0.0</td>\n",
       "      <td>no</td>\n",
       "    </tr>\n",
       "    <tr>\n",
       "      <th>3</th>\n",
       "      <td>0.557692</td>\n",
       "      <td>blue-collar</td>\n",
       "      <td>2.0</td>\n",
       "      <td>3.0</td>\n",
       "      <td>no</td>\n",
       "      <td>0.829632</td>\n",
       "      <td>yes</td>\n",
       "      <td>no</td>\n",
       "      <td>0.0</td>\n",
       "      <td>no</td>\n",
       "    </tr>\n",
       "    <tr>\n",
       "      <th>4</th>\n",
       "      <td>0.288462</td>\n",
       "      <td>unknown</td>\n",
       "      <td>0.0</td>\n",
       "      <td>3.0</td>\n",
       "      <td>no</td>\n",
       "      <td>0.698545</td>\n",
       "      <td>no</td>\n",
       "      <td>no</td>\n",
       "      <td>0.0</td>\n",
       "      <td>no</td>\n",
       "    </tr>\n",
       "  </tbody>\n",
       "</table>\n",
       "</div>"
      ],
      "text/plain": [
       "        age           job  marital  education default   balance housing loan  \\\n",
       "0  0.769231    management      2.0        0.0      no  0.885115     yes   no   \n",
       "1  0.500000    technician      0.0        1.0      no  0.700984     yes   no   \n",
       "2  0.288462  entrepreneur      2.0        1.0      no  0.698633     yes  yes   \n",
       "3  0.557692   blue-collar      2.0        3.0      no  0.829632     yes   no   \n",
       "4  0.288462       unknown      0.0        3.0      no  0.698545      no   no   \n",
       "\n",
       "   campaign   y  \n",
       "0       0.0  no  \n",
       "1       0.0  no  \n",
       "2       0.0  no  \n",
       "3       0.0  no  \n",
       "4       0.0  no  "
      ]
     },
     "execution_count": 36,
     "metadata": {},
     "output_type": "execute_result"
    }
   ],
   "source": [
    "df_enc.head()"
   ]
  },
  {
   "cell_type": "code",
   "execution_count": 37,
   "id": "f9068bba-75c4-4284-af4d-74fefade740d",
   "metadata": {},
   "outputs": [],
   "source": [
    "# gunakan drop first\n",
    "df_enc = pd.get_dummies(df_enc, prefix='housing', columns=['housing'], drop_first = True)\n",
    "df_enc = pd.get_dummies(df_enc, prefix='default', columns=['default'], drop_first = True)\n",
    "df_enc = pd.get_dummies(df_enc, prefix='loan', columns=['loan'], drop_first = True)\n",
    "df_enc = pd.get_dummies(df_enc, prefix='y', columns=['y'], drop_first = True)\n",
    "df_enc = pd.get_dummies(df_enc, prefix='j', columns=['job'], drop_first = True)"
   ]
  },
  {
   "cell_type": "code",
   "execution_count": 38,
   "id": "a649a3af-df90-4f6c-b758-815531665832",
   "metadata": {},
   "outputs": [
    {
     "data": {
      "text/html": [
       "<div>\n",
       "<style scoped>\n",
       "    .dataframe tbody tr th:only-of-type {\n",
       "        vertical-align: middle;\n",
       "    }\n",
       "\n",
       "    .dataframe tbody tr th {\n",
       "        vertical-align: top;\n",
       "    }\n",
       "\n",
       "    .dataframe thead th {\n",
       "        text-align: right;\n",
       "    }\n",
       "</style>\n",
       "<table border=\"1\" class=\"dataframe\">\n",
       "  <thead>\n",
       "    <tr style=\"text-align: right;\">\n",
       "      <th></th>\n",
       "      <th>age</th>\n",
       "      <th>marital</th>\n",
       "      <th>education</th>\n",
       "      <th>balance</th>\n",
       "      <th>campaign</th>\n",
       "      <th>housing_yes</th>\n",
       "      <th>default_yes</th>\n",
       "      <th>loan_yes</th>\n",
       "      <th>y_yes</th>\n",
       "      <th>j_blue-collar</th>\n",
       "      <th>j_entrepreneur</th>\n",
       "      <th>j_housemaid</th>\n",
       "      <th>j_management</th>\n",
       "      <th>j_retired</th>\n",
       "      <th>j_self-employed</th>\n",
       "      <th>j_services</th>\n",
       "      <th>j_student</th>\n",
       "      <th>j_technician</th>\n",
       "      <th>j_unemployed</th>\n",
       "      <th>j_unknown</th>\n",
       "    </tr>\n",
       "  </thead>\n",
       "  <tbody>\n",
       "    <tr>\n",
       "      <th>0</th>\n",
       "      <td>0.769231</td>\n",
       "      <td>2.0</td>\n",
       "      <td>0.0</td>\n",
       "      <td>0.885115</td>\n",
       "      <td>0.0</td>\n",
       "      <td>1</td>\n",
       "      <td>0</td>\n",
       "      <td>0</td>\n",
       "      <td>0</td>\n",
       "      <td>0</td>\n",
       "      <td>0</td>\n",
       "      <td>0</td>\n",
       "      <td>1</td>\n",
       "      <td>0</td>\n",
       "      <td>0</td>\n",
       "      <td>0</td>\n",
       "      <td>0</td>\n",
       "      <td>0</td>\n",
       "      <td>0</td>\n",
       "      <td>0</td>\n",
       "    </tr>\n",
       "    <tr>\n",
       "      <th>1</th>\n",
       "      <td>0.500000</td>\n",
       "      <td>0.0</td>\n",
       "      <td>1.0</td>\n",
       "      <td>0.700984</td>\n",
       "      <td>0.0</td>\n",
       "      <td>1</td>\n",
       "      <td>0</td>\n",
       "      <td>0</td>\n",
       "      <td>0</td>\n",
       "      <td>0</td>\n",
       "      <td>0</td>\n",
       "      <td>0</td>\n",
       "      <td>0</td>\n",
       "      <td>0</td>\n",
       "      <td>0</td>\n",
       "      <td>0</td>\n",
       "      <td>0</td>\n",
       "      <td>1</td>\n",
       "      <td>0</td>\n",
       "      <td>0</td>\n",
       "    </tr>\n",
       "    <tr>\n",
       "      <th>2</th>\n",
       "      <td>0.288462</td>\n",
       "      <td>2.0</td>\n",
       "      <td>1.0</td>\n",
       "      <td>0.698633</td>\n",
       "      <td>0.0</td>\n",
       "      <td>1</td>\n",
       "      <td>0</td>\n",
       "      <td>1</td>\n",
       "      <td>0</td>\n",
       "      <td>0</td>\n",
       "      <td>1</td>\n",
       "      <td>0</td>\n",
       "      <td>0</td>\n",
       "      <td>0</td>\n",
       "      <td>0</td>\n",
       "      <td>0</td>\n",
       "      <td>0</td>\n",
       "      <td>0</td>\n",
       "      <td>0</td>\n",
       "      <td>0</td>\n",
       "    </tr>\n",
       "    <tr>\n",
       "      <th>3</th>\n",
       "      <td>0.557692</td>\n",
       "      <td>2.0</td>\n",
       "      <td>3.0</td>\n",
       "      <td>0.829632</td>\n",
       "      <td>0.0</td>\n",
       "      <td>1</td>\n",
       "      <td>0</td>\n",
       "      <td>0</td>\n",
       "      <td>0</td>\n",
       "      <td>1</td>\n",
       "      <td>0</td>\n",
       "      <td>0</td>\n",
       "      <td>0</td>\n",
       "      <td>0</td>\n",
       "      <td>0</td>\n",
       "      <td>0</td>\n",
       "      <td>0</td>\n",
       "      <td>0</td>\n",
       "      <td>0</td>\n",
       "      <td>0</td>\n",
       "    </tr>\n",
       "    <tr>\n",
       "      <th>4</th>\n",
       "      <td>0.288462</td>\n",
       "      <td>0.0</td>\n",
       "      <td>3.0</td>\n",
       "      <td>0.698545</td>\n",
       "      <td>0.0</td>\n",
       "      <td>0</td>\n",
       "      <td>0</td>\n",
       "      <td>0</td>\n",
       "      <td>0</td>\n",
       "      <td>0</td>\n",
       "      <td>0</td>\n",
       "      <td>0</td>\n",
       "      <td>0</td>\n",
       "      <td>0</td>\n",
       "      <td>0</td>\n",
       "      <td>0</td>\n",
       "      <td>0</td>\n",
       "      <td>0</td>\n",
       "      <td>0</td>\n",
       "      <td>1</td>\n",
       "    </tr>\n",
       "  </tbody>\n",
       "</table>\n",
       "</div>"
      ],
      "text/plain": [
       "        age  marital  education   balance  campaign  housing_yes  default_yes  \\\n",
       "0  0.769231      2.0        0.0  0.885115       0.0            1            0   \n",
       "1  0.500000      0.0        1.0  0.700984       0.0            1            0   \n",
       "2  0.288462      2.0        1.0  0.698633       0.0            1            0   \n",
       "3  0.557692      2.0        3.0  0.829632       0.0            1            0   \n",
       "4  0.288462      0.0        3.0  0.698545       0.0            0            0   \n",
       "\n",
       "   loan_yes  y_yes  j_blue-collar  j_entrepreneur  j_housemaid  j_management  \\\n",
       "0         0      0              0               0            0             1   \n",
       "1         0      0              0               0            0             0   \n",
       "2         1      0              0               1            0             0   \n",
       "3         0      0              1               0            0             0   \n",
       "4         0      0              0               0            0             0   \n",
       "\n",
       "   j_retired  j_self-employed  j_services  j_student  j_technician  \\\n",
       "0          0                0           0          0             0   \n",
       "1          0                0           0          0             1   \n",
       "2          0                0           0          0             0   \n",
       "3          0                0           0          0             0   \n",
       "4          0                0           0          0             0   \n",
       "\n",
       "   j_unemployed  j_unknown  \n",
       "0             0          0  \n",
       "1             0          0  \n",
       "2             0          0  \n",
       "3             0          0  \n",
       "4             0          1  "
      ]
     },
     "execution_count": 38,
     "metadata": {},
     "output_type": "execute_result"
    }
   ],
   "source": [
    "df_enc.head()"
   ]
  },
  {
   "cell_type": "markdown",
   "id": "2642a210-5ca1-46e2-b578-2936abff1d87",
   "metadata": {},
   "source": [
    "## Feature Selection"
   ]
  },
  {
   "cell_type": "code",
   "execution_count": 39,
   "id": "24faffbb-b8ae-4a0b-8f88-a6bb08f56a3b",
   "metadata": {},
   "outputs": [],
   "source": [
    "from sklearn.feature_selection import SelectKBest, chi2, f_classif, f_regression\n",
    "from sklearn.ensemble import ExtraTreesClassifier, ExtraTreesRegressor"
   ]
  },
  {
   "cell_type": "code",
   "execution_count": 40,
   "id": "7e98b361-cc90-4a0e-a3b9-4b1c58ed05bc",
   "metadata": {},
   "outputs": [],
   "source": [
    "X = df_enc.drop(columns=[\"y_yes\"])\n",
    "y = df_enc[\"y_yes\"]"
   ]
  },
  {
   "cell_type": "code",
   "execution_count": 41,
   "id": "20514107-bb19-4258-8c22-43276679b2c8",
   "metadata": {},
   "outputs": [],
   "source": [
    "anov = SelectKBest(score_func = f_classif)\n",
    "fit = anov.fit(X,y)\n",
    "dfscores = pd.DataFrame(fit.scores_)\n",
    "dfcolumns = pd.DataFrame(X.columns)"
   ]
  },
  {
   "cell_type": "code",
   "execution_count": 42,
   "id": "3580fc7a-e223-4837-a15c-f1241ce2b116",
   "metadata": {},
   "outputs": [
    {
     "data": {
      "text/html": [
       "<div>\n",
       "<style scoped>\n",
       "    .dataframe tbody tr th:only-of-type {\n",
       "        vertical-align: middle;\n",
       "    }\n",
       "\n",
       "    .dataframe tbody tr th {\n",
       "        vertical-align: top;\n",
       "    }\n",
       "\n",
       "    .dataframe thead th {\n",
       "        text-align: right;\n",
       "    }\n",
       "</style>\n",
       "<table border=\"1\" class=\"dataframe\">\n",
       "  <thead>\n",
       "    <tr style=\"text-align: right;\">\n",
       "      <th></th>\n",
       "      <th>Specs</th>\n",
       "      <th>Score</th>\n",
       "    </tr>\n",
       "  </thead>\n",
       "  <tbody>\n",
       "    <tr>\n",
       "      <th>5</th>\n",
       "      <td>housing_yes</td>\n",
       "      <td>697.992479</td>\n",
       "    </tr>\n",
       "    <tr>\n",
       "      <th>3</th>\n",
       "      <td>balance</td>\n",
       "      <td>286.229974</td>\n",
       "    </tr>\n",
       "    <tr>\n",
       "      <th>15</th>\n",
       "      <td>j_student</td>\n",
       "      <td>255.381986</td>\n",
       "    </tr>\n",
       "    <tr>\n",
       "      <th>1</th>\n",
       "      <td>marital</td>\n",
       "      <td>209.318708</td>\n",
       "    </tr>\n",
       "    <tr>\n",
       "      <th>8</th>\n",
       "      <td>j_blue-collar</td>\n",
       "      <td>172.120405</td>\n",
       "    </tr>\n",
       "    <tr>\n",
       "      <th>7</th>\n",
       "      <td>loan_yes</td>\n",
       "      <td>154.197728</td>\n",
       "    </tr>\n",
       "    <tr>\n",
       "      <th>2</th>\n",
       "      <td>education</td>\n",
       "      <td>152.227412</td>\n",
       "    </tr>\n",
       "    <tr>\n",
       "      <th>4</th>\n",
       "      <td>campaign</td>\n",
       "      <td>150.383626</td>\n",
       "    </tr>\n",
       "    <tr>\n",
       "      <th>12</th>\n",
       "      <td>j_retired</td>\n",
       "      <td>63.253565</td>\n",
       "    </tr>\n",
       "    <tr>\n",
       "      <th>11</th>\n",
       "      <td>j_management</td>\n",
       "      <td>48.234069</td>\n",
       "    </tr>\n",
       "  </tbody>\n",
       "</table>\n",
       "</div>"
      ],
      "text/plain": [
       "            Specs       Score\n",
       "5     housing_yes  697.992479\n",
       "3         balance  286.229974\n",
       "15      j_student  255.381986\n",
       "1         marital  209.318708\n",
       "8   j_blue-collar  172.120405\n",
       "7        loan_yes  154.197728\n",
       "2       education  152.227412\n",
       "4        campaign  150.383626\n",
       "12      j_retired   63.253565\n",
       "11   j_management   48.234069"
      ]
     },
     "execution_count": 42,
     "metadata": {},
     "output_type": "execute_result"
    }
   ],
   "source": [
    "#  concat kedua dataframes\n",
    "featureScores = pd.concat([dfcolumns, dfscores], axis=1)\n",
    "featureScores.columns = ['Specs', 'Score'] # memberi nama dataframe columns\n",
    "featureScores.nlargest(10, 'Score') # print top 10 features"
   ]
  },
  {
   "cell_type": "markdown",
   "id": "f321e5fc-42c2-4377-8a95-cae8270930cc",
   "metadata": {},
   "source": [
    "#### Filter Method with Heatmap"
   ]
  },
  {
   "cell_type": "code",
   "execution_count": 43,
   "id": "4ee8a704-e7ea-4b31-b7c3-37baf0787e7c",
   "metadata": {},
   "outputs": [
    {
     "data": {
      "image/png": "[encoded data removed]",
      "text/plain": [
       "<Figure size 1440x1440 with 2 Axes>"
      ]
     },
     "metadata": {
      "needs_background": "light"
     },
     "output_type": "display_data"
    }
   ],
   "source": [
    "plt.figure(figsize=(20,20))\n",
    "sns.heatmap(df_enc.corr(\"spearman\"), annot=True)\n",
    "plt.show()"
   ]
  },
  {
   "cell_type": "code",
   "execution_count": 44,
   "id": "3539dad7-9f04-4716-92db-f8d1f79cd84a",
   "metadata": {},
   "outputs": [
    {
     "name": "stdout",
     "output_type": "stream",
     "text": [
      "[0.30954042 0.02002293 0.03669329 0.49120456 0.06087547 0.02205115\n",
      " 0.00350173 0.00923057 0.00503301 0.00339656 0.00290466 0.00554148\n",
      " 0.00311924 0.00406739 0.00485297 0.00601666 0.00628503 0.00385028\n",
      " 0.00181259]\n"
     ]
    }
   ],
   "source": [
    "model = ExtraTreesClassifier() \n",
    "model.fit(X,y) \n",
    "print(model.feature_importances_)"
   ]
  },
  {
   "cell_type": "code",
   "execution_count": 45,
   "id": "aa08c1ef-e07f-4b72-9b28-ff414d4b504d",
   "metadata": {},
   "outputs": [
    {
     "data": {
      "text/plain": [
       "balance          0.491205\n",
       "age              0.309540\n",
       "campaign         0.060875\n",
       "education        0.036693\n",
       "housing_yes      0.022051\n",
       "marital          0.020023\n",
       "loan_yes         0.009231\n",
       "j_technician     0.006285\n",
       "j_student        0.006017\n",
       "j_management     0.005541\n",
       "j_blue-collar    0.005033\n",
       "j_services       0.004853\n",
       "dtype: float64"
      ]
     },
     "execution_count": 45,
     "metadata": {},
     "output_type": "execute_result"
    }
   ],
   "source": [
    "feat_importances = pd.Series(model.feature_importances_, index=X.columns)\n",
    "feat_importances.nlargest(12)"
   ]
  },
  {
   "cell_type": "code",
   "execution_count": 46,
   "id": "fd2177cc-ad1e-439a-af76-5b98ac6aa551",
   "metadata": {},
   "outputs": [],
   "source": [
    "col = feat_importances.nlargest(6).index.tolist()"
   ]
  },
  {
   "cell_type": "code",
   "execution_count": 47,
   "id": "87d144bd-7463-4c55-bd82-41a12a93f2ed",
   "metadata": {},
   "outputs": [],
   "source": [
    "df_fin = df_enc[col]"
   ]
  },
  {
   "cell_type": "code",
   "execution_count": 48,
   "id": "299d024a-bf16-4080-aa23-7aff0933f87a",
   "metadata": {},
   "outputs": [
    {
     "data": {
      "text/html": [
       "<div>\n",
       "<style scoped>\n",
       "    .dataframe tbody tr th:only-of-type {\n",
       "        vertical-align: middle;\n",
       "    }\n",
       "\n",
       "    .dataframe tbody tr th {\n",
       "        vertical-align: top;\n",
       "    }\n",
       "\n",
       "    .dataframe thead th {\n",
       "        text-align: right;\n",
       "    }\n",
       "</style>\n",
       "<table border=\"1\" class=\"dataframe\">\n",
       "  <thead>\n",
       "    <tr style=\"text-align: right;\">\n",
       "      <th></th>\n",
       "      <th>balance</th>\n",
       "      <th>age</th>\n",
       "      <th>campaign</th>\n",
       "      <th>education</th>\n",
       "      <th>housing_yes</th>\n",
       "      <th>marital</th>\n",
       "    </tr>\n",
       "  </thead>\n",
       "  <tbody>\n",
       "    <tr>\n",
       "      <th>0</th>\n",
       "      <td>0.885115</td>\n",
       "      <td>0.769231</td>\n",
       "      <td>0.0</td>\n",
       "      <td>0.0</td>\n",
       "      <td>1</td>\n",
       "      <td>2.0</td>\n",
       "    </tr>\n",
       "    <tr>\n",
       "      <th>1</th>\n",
       "      <td>0.700984</td>\n",
       "      <td>0.500000</td>\n",
       "      <td>0.0</td>\n",
       "      <td>1.0</td>\n",
       "      <td>1</td>\n",
       "      <td>0.0</td>\n",
       "    </tr>\n",
       "    <tr>\n",
       "      <th>2</th>\n",
       "      <td>0.698633</td>\n",
       "      <td>0.288462</td>\n",
       "      <td>0.0</td>\n",
       "      <td>1.0</td>\n",
       "      <td>1</td>\n",
       "      <td>2.0</td>\n",
       "    </tr>\n",
       "    <tr>\n",
       "      <th>3</th>\n",
       "      <td>0.829632</td>\n",
       "      <td>0.557692</td>\n",
       "      <td>0.0</td>\n",
       "      <td>3.0</td>\n",
       "      <td>1</td>\n",
       "      <td>2.0</td>\n",
       "    </tr>\n",
       "    <tr>\n",
       "      <th>4</th>\n",
       "      <td>0.698545</td>\n",
       "      <td>0.288462</td>\n",
       "      <td>0.0</td>\n",
       "      <td>3.0</td>\n",
       "      <td>0</td>\n",
       "      <td>0.0</td>\n",
       "    </tr>\n",
       "  </tbody>\n",
       "</table>\n",
       "</div>"
      ],
      "text/plain": [
       "    balance       age  campaign  education  housing_yes  marital\n",
       "0  0.885115  0.769231       0.0        0.0            1      2.0\n",
       "1  0.700984  0.500000       0.0        1.0            1      0.0\n",
       "2  0.698633  0.288462       0.0        1.0            1      2.0\n",
       "3  0.829632  0.557692       0.0        3.0            1      2.0\n",
       "4  0.698545  0.288462       0.0        3.0            0      0.0"
      ]
     },
     "execution_count": 48,
     "metadata": {},
     "output_type": "execute_result"
    }
   ],
   "source": [
    "df_enc[col].head()"
   ]
  },
  {
   "cell_type": "code",
   "execution_count": null,
   "id": "d19a52af-d685-4b9d-814e-84dc5af1f766",
   "metadata": {},
   "outputs": [],
   "source": []
  },
  {
   "cell_type": "code",
   "execution_count": 49,
   "id": "2ed71fb9-3cdd-4166-9cf9-1aadddf94a84",
   "metadata": {},
   "outputs": [],
   "source": [
    "df_h = df_enc.drop(columns=['default_yes','j_blue-collar',\t'j_entrepreneur',\t'j_housemaid'\t,'j_management',\t'j_retired',\t'j_self-employed',\t'j_services',\t'j_student',\t'j_technician',\t'j_unemployed',\t'j_unknown'])"
   ]
  },
  {
   "cell_type": "code",
   "execution_count": 50,
   "id": "07f6c47e-9480-4eed-b98b-64bdee9b5d43",
   "metadata": {},
   "outputs": [
    {
     "data": {
      "text/html": [
       "<div>\n",
       "<style scoped>\n",
       "    .dataframe tbody tr th:only-of-type {\n",
       "        vertical-align: middle;\n",
       "    }\n",
       "\n",
       "    .dataframe tbody tr th {\n",
       "        vertical-align: top;\n",
       "    }\n",
       "\n",
       "    .dataframe thead th {\n",
       "        text-align: right;\n",
       "    }\n",
       "</style>\n",
       "<table border=\"1\" class=\"dataframe\">\n",
       "  <thead>\n",
       "    <tr style=\"text-align: right;\">\n",
       "      <th></th>\n",
       "      <th>age</th>\n",
       "      <th>marital</th>\n",
       "      <th>education</th>\n",
       "      <th>balance</th>\n",
       "      <th>campaign</th>\n",
       "      <th>housing_yes</th>\n",
       "      <th>loan_yes</th>\n",
       "      <th>y_yes</th>\n",
       "    </tr>\n",
       "  </thead>\n",
       "  <tbody>\n",
       "    <tr>\n",
       "      <th>0</th>\n",
       "      <td>0.769231</td>\n",
       "      <td>2.0</td>\n",
       "      <td>0.0</td>\n",
       "      <td>0.885115</td>\n",
       "      <td>0.0</td>\n",
       "      <td>1</td>\n",
       "      <td>0</td>\n",
       "      <td>0</td>\n",
       "    </tr>\n",
       "    <tr>\n",
       "      <th>1</th>\n",
       "      <td>0.500000</td>\n",
       "      <td>0.0</td>\n",
       "      <td>1.0</td>\n",
       "      <td>0.700984</td>\n",
       "      <td>0.0</td>\n",
       "      <td>1</td>\n",
       "      <td>0</td>\n",
       "      <td>0</td>\n",
       "    </tr>\n",
       "    <tr>\n",
       "      <th>2</th>\n",
       "      <td>0.288462</td>\n",
       "      <td>2.0</td>\n",
       "      <td>1.0</td>\n",
       "      <td>0.698633</td>\n",
       "      <td>0.0</td>\n",
       "      <td>1</td>\n",
       "      <td>1</td>\n",
       "      <td>0</td>\n",
       "    </tr>\n",
       "    <tr>\n",
       "      <th>3</th>\n",
       "      <td>0.557692</td>\n",
       "      <td>2.0</td>\n",
       "      <td>3.0</td>\n",
       "      <td>0.829632</td>\n",
       "      <td>0.0</td>\n",
       "      <td>1</td>\n",
       "      <td>0</td>\n",
       "      <td>0</td>\n",
       "    </tr>\n",
       "    <tr>\n",
       "      <th>4</th>\n",
       "      <td>0.288462</td>\n",
       "      <td>0.0</td>\n",
       "      <td>3.0</td>\n",
       "      <td>0.698545</td>\n",
       "      <td>0.0</td>\n",
       "      <td>0</td>\n",
       "      <td>0</td>\n",
       "      <td>0</td>\n",
       "    </tr>\n",
       "  </tbody>\n",
       "</table>\n",
       "</div>"
      ],
      "text/plain": [
       "        age  marital  education   balance  campaign  housing_yes  loan_yes  \\\n",
       "0  0.769231      2.0        0.0  0.885115       0.0            1         0   \n",
       "1  0.500000      0.0        1.0  0.700984       0.0            1         0   \n",
       "2  0.288462      2.0        1.0  0.698633       0.0            1         1   \n",
       "3  0.557692      2.0        3.0  0.829632       0.0            1         0   \n",
       "4  0.288462      0.0        3.0  0.698545       0.0            0         0   \n",
       "\n",
       "   y_yes  \n",
       "0      0  \n",
       "1      0  \n",
       "2      0  \n",
       "3      0  \n",
       "4      0  "
      ]
     },
     "execution_count": 50,
     "metadata": {},
     "output_type": "execute_result"
    }
   ],
   "source": [
    "df_h.head()"
   ]
  },
  {
   "cell_type": "code",
   "execution_count": 51,
   "id": "6b5d027a-e765-466d-9392-898fa3f71c06",
   "metadata": {},
   "outputs": [],
   "source": [
    "df_h.to_csv('Bank_h.csv', index = False)"
   ]
  },
  {
   "cell_type": "markdown",
   "id": "afda04bd-baa4-4a80-9382-77cd50e07077",
   "metadata": {},
   "source": [
    "## Modelling"
   ]
  },
  {
   "cell_type": "markdown",
   "id": "e5ed7ef7-1d08-4efd-be8a-de37423c6d5b",
   "metadata": {},
   "source": [
    "### Logistic Regression"
   ]
  },
  {
   "cell_type": "code",
   "execution_count": 52,
   "id": "dd476be9-1cba-405c-a404-fd0369bb25bb",
   "metadata": {},
   "outputs": [],
   "source": [
    "# SPLIT TARGET\n",
    "X = df_enc[col]\n",
    "y = df_enc['y_yes']"
   ]
  },
  {
   "cell_type": "code",
   "execution_count": 53,
   "id": "fdb39205-0d59-4ef1-816e-b37c1ea9e9d6",
   "metadata": {},
   "outputs": [],
   "source": [
    "from sklearn.metrics import classification_report, accuracy_score, confusion_matrix, recall_score, roc_auc_score, roc_curve, precision_score, f1_score\n",
    "\n",
    "# untuk undersampling & oversampling\n",
    "from imblearn.over_sampling import SMOTE\n",
    "from imblearn.under_sampling import NearMiss, TomekLinks\n",
    "from imblearn.combine import SMOTETomek"
   ]
  },
  {
   "cell_type": "code",
   "execution_count": null,
   "id": "04e6b08a-3406-4800-ad3a-1bb9dabd5363",
   "metadata": {},
   "outputs": [],
   "source": []
  },
  {
   "cell_type": "code",
   "execution_count": 54,
   "id": "e433a551-9874-42ca-85e6-0108f5173c8c",
   "metadata": {},
   "outputs": [],
   "source": [
    "# train test split\n",
    "X_train, X_test, y_train, y_test = train_test_split(X, y, test_size=0.2, random_state=0) # size test = 20%"
   ]
  },
  {
   "cell_type": "code",
   "execution_count": 55,
   "id": "7e0bfc6d-5146-46d0-adc2-075b2d89115b",
   "metadata": {},
   "outputs": [
    {
     "name": "stdout",
     "output_type": "stream",
     "text": [
      "X_train sebelum Resampling (29894, 6)\n",
      "y_train sebelum Resampling (29894,) \n",
      "\n",
      "label '1' sebelum Resampling 3427\n",
      "label '0' sebelum Resampling 26467\n"
     ]
    }
   ],
   "source": [
    "# cek sebelum resampling\n",
    "print('X_train sebelum Resampling', X_train.shape)\n",
    "print('y_train sebelum Resampling', y_train.shape, '\\n')\n",
    "\n",
    "print(\"label '1' sebelum Resampling\", sum(y_train == 1))\n",
    "print(\"label '0' sebelum Resampling\", sum(y_train == 0))"
   ]
  },
  {
   "cell_type": "code",
   "execution_count": 56,
   "id": "1b879e68-b60b-47c7-98c2-b9946f1d2f13",
   "metadata": {},
   "outputs": [],
   "source": [
    "# gunakan SMOTE+tomeklinks\n",
    "st = SMOTETomek()\n",
    "X_train_st, y_train_st = st.fit_resample(X_train, y_train)"
   ]
  },
  {
   "cell_type": "code",
   "execution_count": 57,
   "id": "4b0c1578-b3aa-45e7-bfa3-79a04950d1d8",
   "metadata": {},
   "outputs": [
    {
     "name": "stdout",
     "output_type": "stream",
     "text": [
      "X_train sesudah Resampling (48082, 6)\n",
      "y_train sesudah Resampling (48082,) \n",
      "\n",
      "label '1' sesudah Resampling 24041\n",
      "label '0' sesudah Resampling 24041\n"
     ]
    }
   ],
   "source": [
    "# cek sesudah resampling\n",
    "print('X_train sesudah Resampling', X_train_st.shape)\n",
    "print('y_train sesudah Resampling', y_train_st.shape, '\\n')\n",
    "\n",
    "print(\"label '1' sesudah Resampling\", sum(y_train_st == 1))\n",
    "print(\"label '0' sesudah Resampling\", sum(y_train_st == 0))"
   ]
  },
  {
   "cell_type": "code",
   "execution_count": 58,
   "id": "368ab5dc-456c-4f8f-aea1-40f7764bcd6c",
   "metadata": {},
   "outputs": [
    {
     "data": {
      "text/plain": [
       "0    26467\n",
       "1     3427\n",
       "Name: y_yes, dtype: int64"
      ]
     },
     "execution_count": 58,
     "metadata": {},
     "output_type": "execute_result"
    }
   ],
   "source": [
    "y_train.value_counts()"
   ]
  },
  {
   "cell_type": "code",
   "execution_count": null,
   "id": "a3dd5208-ccc8-4e79-9fe0-fd90ccf8b779",
   "metadata": {},
   "outputs": [],
   "source": []
  },
  {
   "cell_type": "code",
   "execution_count": 59,
   "id": "15be84ee-4b5f-4d85-a068-3680db8627cd",
   "metadata": {},
   "outputs": [],
   "source": [
    "# buat y predict\n",
    "model = LogisticRegression(random_state = 0)\n",
    "model.fit(X_train_st, y_train_st)\n",
    "\n",
    "# Predicting Test Set\n",
    "y_pred = model.predict(X_test)\n",
    "from sklearn.metrics import confusion_matrix, accuracy_score, f1_score, precision_score, recall_score\n",
    "acc = accuracy_score(y_test, y_pred)\n",
    "prec = precision_score(y_test, y_pred)\n",
    "rec = recall_score(y_test, y_pred)\n",
    "f1 = f1_score(y_test, y_pred)\n",
    "\n",
    "results = pd.DataFrame([['Logistic Regression (Lasso)', acc, prec, rec, f1]],\n",
    "               columns = ['Model', 'Accuracy', 'Precision', 'Recall', 'F1 Score'])"
   ]
  },
  {
   "cell_type": "code",
   "execution_count": 60,
   "id": "671bed2b-cb6a-42cb-a978-b7812ae070d2",
   "metadata": {},
   "outputs": [],
   "source": [
    "# buat df untuk stare hasil actual vs pred \n",
    "result = pd.DataFrame()\n",
    "result[\"y_act\"] = y_test\n",
    "result[\"y_pred\"] = y_pred"
   ]
  },
  {
   "cell_type": "code",
   "execution_count": 61,
   "id": "4d405f94-b71e-4ca8-a862-638134621af5",
   "metadata": {},
   "outputs": [
    {
     "data": {
      "text/html": [
       "<div>\n",
       "<style scoped>\n",
       "    .dataframe tbody tr th:only-of-type {\n",
       "        vertical-align: middle;\n",
       "    }\n",
       "\n",
       "    .dataframe tbody tr th {\n",
       "        vertical-align: top;\n",
       "    }\n",
       "\n",
       "    .dataframe thead th {\n",
       "        text-align: right;\n",
       "    }\n",
       "</style>\n",
       "<table border=\"1\" class=\"dataframe\">\n",
       "  <thead>\n",
       "    <tr style=\"text-align: right;\">\n",
       "      <th></th>\n",
       "      <th>y_act</th>\n",
       "      <th>y_pred</th>\n",
       "    </tr>\n",
       "  </thead>\n",
       "  <tbody>\n",
       "    <tr>\n",
       "      <th>35455</th>\n",
       "      <td>0</td>\n",
       "      <td>0</td>\n",
       "    </tr>\n",
       "    <tr>\n",
       "      <th>7367</th>\n",
       "      <td>0</td>\n",
       "      <td>0</td>\n",
       "    </tr>\n",
       "    <tr>\n",
       "      <th>194</th>\n",
       "      <td>0</td>\n",
       "      <td>0</td>\n",
       "    </tr>\n",
       "    <tr>\n",
       "      <th>6864</th>\n",
       "      <td>0</td>\n",
       "      <td>1</td>\n",
       "    </tr>\n",
       "    <tr>\n",
       "      <th>35782</th>\n",
       "      <td>0</td>\n",
       "      <td>0</td>\n",
       "    </tr>\n",
       "  </tbody>\n",
       "</table>\n",
       "</div>"
      ],
      "text/plain": [
       "       y_act  y_pred\n",
       "35455      0       0\n",
       "7367       0       0\n",
       "194        0       0\n",
       "6864       0       1\n",
       "35782      0       0"
      ]
     },
     "execution_count": 61,
     "metadata": {},
     "output_type": "execute_result"
    }
   ],
   "source": [
    "# cek hasil\n",
    "result.head()"
   ]
  },
  {
   "cell_type": "code",
   "execution_count": 62,
   "id": "c2111ff2-ffaf-4a2c-ad17-0dded5c16475",
   "metadata": {},
   "outputs": [
    {
     "data": {
      "text/plain": [
       "[array([-1.15262594]),\n",
       " array([[ 3.05069427, -0.12293911, -0.93797157, -0.21573194, -0.89821248,\n",
       "         -0.23402436]])]"
      ]
     },
     "execution_count": 62,
     "metadata": {},
     "output_type": "execute_result"
    }
   ],
   "source": [
    "[model.intercept_,model.coef_]"
   ]
  },
  {
   "cell_type": "code",
   "execution_count": 63,
   "id": "5302fb32-d5a2-4192-a3bf-8f6e28e03d29",
   "metadata": {},
   "outputs": [],
   "source": [
    "# melihat probability\n",
    "y_pred_proba = model.predict_proba(X_test)"
   ]
  },
  {
   "cell_type": "code",
   "execution_count": 64,
   "id": "4ac1129d-2ee8-4ea2-9042-b8486690218a",
   "metadata": {},
   "outputs": [
    {
     "data": {
      "text/plain": [
       "array([0.69659422, 0.30340578])"
      ]
     },
     "execution_count": 64,
     "metadata": {},
     "output_type": "execute_result"
    }
   ],
   "source": [
    "# probability data ke 1\n",
    "y_pred_proba[0]"
   ]
  },
  {
   "cell_type": "code",
   "execution_count": 65,
   "id": "32ed6902-bcf8-4fc7-9bf6-1b623c52961c",
   "metadata": {},
   "outputs": [],
   "source": [
    "# cek hasil percobaan\n",
    "cek = X_test.iloc[:1]"
   ]
  },
  {
   "cell_type": "code",
   "execution_count": 66,
   "id": "d5bb2828-9c89-442a-8901-00e945481db7",
   "metadata": {},
   "outputs": [
    {
     "data": {
      "text/html": [
       "<div>\n",
       "<style scoped>\n",
       "    .dataframe tbody tr th:only-of-type {\n",
       "        vertical-align: middle;\n",
       "    }\n",
       "\n",
       "    .dataframe tbody tr th {\n",
       "        vertical-align: top;\n",
       "    }\n",
       "\n",
       "    .dataframe thead th {\n",
       "        text-align: right;\n",
       "    }\n",
       "</style>\n",
       "<table border=\"1\" class=\"dataframe\">\n",
       "  <thead>\n",
       "    <tr style=\"text-align: right;\">\n",
       "      <th></th>\n",
       "      <th>balance</th>\n",
       "      <th>age</th>\n",
       "      <th>campaign</th>\n",
       "      <th>education</th>\n",
       "      <th>housing_yes</th>\n",
       "      <th>marital</th>\n",
       "    </tr>\n",
       "  </thead>\n",
       "  <tbody>\n",
       "    <tr>\n",
       "      <th>35455</th>\n",
       "      <td>0.712569</td>\n",
       "      <td>0.673077</td>\n",
       "      <td>0.2</td>\n",
       "      <td>1.0</td>\n",
       "      <td>1</td>\n",
       "      <td>2.0</td>\n",
       "    </tr>\n",
       "  </tbody>\n",
       "</table>\n",
       "</div>"
      ],
      "text/plain": [
       "        balance       age  campaign  education  housing_yes  marital\n",
       "35455  0.712569  0.673077       0.2        1.0            1      2.0"
      ]
     },
     "execution_count": 66,
     "metadata": {},
     "output_type": "execute_result"
    }
   ],
   "source": [
    "cek"
   ]
  },
  {
   "cell_type": "code",
   "execution_count": 67,
   "id": "e5df6870-c9a5-46d2-bc04-d51194b388a1",
   "metadata": {},
   "outputs": [
    {
     "name": "stdout",
     "output_type": "stream",
     "text": [
      "[[4146 2529]\n",
      " [ 295  504]]\n"
     ]
    }
   ],
   "source": [
    "# confusion matrix\n",
    "print(confusion_matrix(y_test, y_pred))"
   ]
  },
  {
   "cell_type": "code",
   "execution_count": 68,
   "id": "8de2d14e-327c-4b9f-aa81-89e6aa5969dc",
   "metadata": {},
   "outputs": [
    {
     "data": {
      "image/png": "[encoded data removed]",
      "text/plain": [
       "<Figure size 432x288 with 2 Axes>"
      ]
     },
     "metadata": {
      "needs_background": "light"
     },
     "output_type": "display_data"
    }
   ],
   "source": [
    "# plot confusion matrix\n",
    "sns.heatmap(confusion_matrix(y_test, y_pred), annot=True, fmt=\".0f\")\n",
    "plt.xlabel('Prediction')\n",
    "plt.ylabel('Actual')\n",
    "plt.show()"
   ]
  },
  {
   "cell_type": "code",
   "execution_count": 69,
   "id": "da0a08dc-4293-4268-a9cd-7ff4dae98dd1",
   "metadata": {},
   "outputs": [
    {
     "name": "stdout",
     "output_type": "stream",
     "text": [
      "              precision    recall  f1-score   support\n",
      "\n",
      "           0       0.93      0.62      0.75      6675\n",
      "           1       0.17      0.63      0.26       799\n",
      "\n",
      "    accuracy                           0.62      7474\n",
      "   macro avg       0.55      0.63      0.50      7474\n",
      "weighted avg       0.85      0.62      0.69      7474\n",
      "\n"
     ]
    }
   ],
   "source": [
    "print(classification_report(y_test, y_pred))"
   ]
  },
  {
   "cell_type": "markdown",
   "id": "27b66e7b-c527-459c-8cfe-afb5674160cc",
   "metadata": {},
   "source": [
    "The more important is recall feature, because the actual customer should not predicted as not customer. Contrast to not customer asummed to be customer could increase subs rate"
   ]
  },
  {
   "cell_type": "code",
   "execution_count": 70,
   "id": "2db23270-f3ba-4480-b0ca-42b81c0ed06d",
   "metadata": {},
   "outputs": [
    {
     "data": {
      "text/plain": [
       "LogisticRegression(C=1, l1_ratio=1, penalty='l1', solver='saga')"
      ]
     },
     "execution_count": 70,
     "metadata": {},
     "output_type": "execute_result"
    }
   ],
   "source": [
    "# with hyper parameter\n",
    "model_rs_tuned = LogisticRegression(C= 1, l1_ratio= 1, max_iter= 100, penalty= 'l1', solver= 'saga')\n",
    "model_rs_tuned.fit(X_train_st, y_train_st)"
   ]
  },
  {
   "cell_type": "code",
   "execution_count": 79,
   "id": "0f03a071-f489-465c-8149-6ecf0c3864f8",
   "metadata": {},
   "outputs": [
    {
     "name": "stdout",
     "output_type": "stream",
     "text": [
      "              precision    recall  f1-score   support\n",
      "\n",
      "           0       0.93      0.62      0.75      6675\n",
      "           1       0.17      0.63      0.26       799\n",
      "\n",
      "    accuracy                           0.62      7474\n",
      "   macro avg       0.55      0.63      0.50      7474\n",
      "weighted avg       0.85      0.62      0.69      7474\n",
      "\n"
     ]
    }
   ],
   "source": [
    "y_pred_rs_tuned = model_rs_tuned.predict(X_test)\n",
    "print(classification_report(y_test, y_pred_rs_tuned))"
   ]
  },
  {
   "cell_type": "code",
   "execution_count": 81,
   "id": "2229b530-7265-459e-86b2-a757d7c455d0",
   "metadata": {},
   "outputs": [],
   "source": [
    "# plot roc auc curve\n",
    "def plot_roc_curve(true_y, y_prob, labels):\n",
    "    \n",
    "    fpr,tpr,thresholds = roc_curve(true_y, y_prob)\n",
    "    \n",
    "    sns.lineplot(fpr, tpr, label=labels)\n",
    "    plt.xlabel('false positive rate')\n",
    "    plt.ylabel('false negative rate')"
   ]
  },
  {
   "cell_type": "code",
   "execution_count": 82,
   "id": "ebcb91e1-00a4-4287-8a47-a0c6b749b61c",
   "metadata": {},
   "outputs": [
    {
     "name": "stdout",
     "output_type": "stream",
     "text": [
      "\\model auc score:0.6265818227840981\n",
      "\n"
     ]
    },
    {
     "data": {
      "image/png": "[encoded data removed]",
      "text/plain": [
       "<Figure size 432x288 with 1 Axes>"
      ]
     },
     "metadata": {
      "needs_background": "light"
     },
     "output_type": "display_data"
    }
   ],
   "source": [
    "plot_roc_curve(y_test, y_pred_rs_tuned, 'AUC Score')\n",
    "print(f'\\model auc score:{roc_auc_score(y_test, y_pred_rs_tuned)}\\n')"
   ]
  },
  {
   "cell_type": "markdown",
   "id": "4a615521-e311-4fbe-b915-2372fad35fa5",
   "metadata": {},
   "source": [
    "# Decision Tree Model"
   ]
  },
  {
   "cell_type": "code",
   "execution_count": 71,
   "id": "e571eefb-cf38-43b1-89f6-637fb0b91e62",
   "metadata": {},
   "outputs": [],
   "source": [
    "from sklearn.tree import DecisionTreeRegressor, plot_tree, export_graphviz"
   ]
  },
  {
   "cell_type": "code",
   "execution_count": 87,
   "id": "646a257a-2b37-4b81-8684-429c2fcf5447",
   "metadata": {},
   "outputs": [
    {
     "data": {
      "text/plain": [
       "DecisionTreeClassifier(max_depth=100)"
      ]
     },
     "execution_count": 87,
     "metadata": {},
     "output_type": "execute_result"
    }
   ],
   "source": [
    "model = DecisionTreeClassifier(splitter=\"best\", max_depth=100, criterion=\"gini\")\n",
    "model.fit(X_train_st, y_train_st)"
   ]
  },
  {
   "cell_type": "code",
   "execution_count": 88,
   "id": "b0534a18-3500-44c4-9fb7-9f350d5aae3d",
   "metadata": {},
   "outputs": [],
   "source": [
    "# buat y predict\n",
    "y_pred = model.predict(X_test)"
   ]
  },
  {
   "cell_type": "code",
   "execution_count": 89,
   "id": "9393f3b7-47f4-427d-92fb-b503327c800d",
   "metadata": {},
   "outputs": [],
   "source": [
    "# buat df untuk stare hasil actual vs pred \n",
    "result = pd.DataFrame()\n",
    "result[\"y_act\"] = y_test\n",
    "result[\"y_pred\"] = y_pred"
   ]
  },
  {
   "cell_type": "code",
   "execution_count": 90,
   "id": "b3cc8bf9-e72f-459c-8015-ae2831f281de",
   "metadata": {},
   "outputs": [
    {
     "data": {
      "text/html": [
       "<div>\n",
       "<style scoped>\n",
       "    .dataframe tbody tr th:only-of-type {\n",
       "        vertical-align: middle;\n",
       "    }\n",
       "\n",
       "    .dataframe tbody tr th {\n",
       "        vertical-align: top;\n",
       "    }\n",
       "\n",
       "    .dataframe thead th {\n",
       "        text-align: right;\n",
       "    }\n",
       "</style>\n",
       "<table border=\"1\" class=\"dataframe\">\n",
       "  <thead>\n",
       "    <tr style=\"text-align: right;\">\n",
       "      <th></th>\n",
       "      <th>y_act</th>\n",
       "      <th>y_pred</th>\n",
       "    </tr>\n",
       "  </thead>\n",
       "  <tbody>\n",
       "    <tr>\n",
       "      <th>35455</th>\n",
       "      <td>0</td>\n",
       "      <td>0</td>\n",
       "    </tr>\n",
       "    <tr>\n",
       "      <th>7367</th>\n",
       "      <td>0</td>\n",
       "      <td>1</td>\n",
       "    </tr>\n",
       "    <tr>\n",
       "      <th>194</th>\n",
       "      <td>0</td>\n",
       "      <td>1</td>\n",
       "    </tr>\n",
       "    <tr>\n",
       "      <th>6864</th>\n",
       "      <td>0</td>\n",
       "      <td>0</td>\n",
       "    </tr>\n",
       "    <tr>\n",
       "      <th>35782</th>\n",
       "      <td>0</td>\n",
       "      <td>0</td>\n",
       "    </tr>\n",
       "    <tr>\n",
       "      <th>...</th>\n",
       "      <td>...</td>\n",
       "      <td>...</td>\n",
       "    </tr>\n",
       "    <tr>\n",
       "      <th>25539</th>\n",
       "      <td>0</td>\n",
       "      <td>0</td>\n",
       "    </tr>\n",
       "    <tr>\n",
       "      <th>39069</th>\n",
       "      <td>0</td>\n",
       "      <td>1</td>\n",
       "    </tr>\n",
       "    <tr>\n",
       "      <th>27585</th>\n",
       "      <td>0</td>\n",
       "      <td>0</td>\n",
       "    </tr>\n",
       "    <tr>\n",
       "      <th>10893</th>\n",
       "      <td>0</td>\n",
       "      <td>0</td>\n",
       "    </tr>\n",
       "    <tr>\n",
       "      <th>45034</th>\n",
       "      <td>0</td>\n",
       "      <td>1</td>\n",
       "    </tr>\n",
       "  </tbody>\n",
       "</table>\n",
       "<p>7474 rows × 2 columns</p>\n",
       "</div>"
      ],
      "text/plain": [
       "       y_act  y_pred\n",
       "35455      0       0\n",
       "7367       0       1\n",
       "194        0       1\n",
       "6864       0       0\n",
       "35782      0       0\n",
       "...      ...     ...\n",
       "25539      0       0\n",
       "39069      0       1\n",
       "27585      0       0\n",
       "10893      0       0\n",
       "45034      0       1\n",
       "\n",
       "[7474 rows x 2 columns]"
      ]
     },
     "execution_count": 90,
     "metadata": {},
     "output_type": "execute_result"
    }
   ],
   "source": [
    "# cek hasil\n",
    "result"
   ]
  },
  {
   "cell_type": "code",
   "execution_count": 91,
   "id": "f8c2da72-f2e4-439a-826d-6e8e8daacc07",
   "metadata": {},
   "outputs": [],
   "source": [
    "# buat kolom untuk nama feature dalam visualisasi\n",
    "DT_cols = X_train_st.columns.tolist()"
   ]
  },
  {
   "cell_type": "code",
   "execution_count": 92,
   "id": "767f5f1d-1b97-4222-b5bb-8f1b1fb96f5b",
   "metadata": {},
   "outputs": [
    {
     "data": {
      "image/png": "[encoded data removed]",
      "text/plain": [
       "<Figure size 1440x720 with 1 Axes>"
      ]
     },
     "metadata": {
      "needs_background": "light"
     },
     "output_type": "display_data"
    }
   ],
   "source": [
    "# plot decision tree\n",
    "plt.figure(figsize=(20,10))\n",
    "plot_tree(model,\n",
    "          feature_names = DT_cols, impurity = True,\n",
    "          fontsize = 10, max_depth = 3,\n",
    "          filled = True)\n",
    "# plt.savefig('dt_viz', dpi=100)\n",
    "plt.show()"
   ]
  },
  {
   "cell_type": "code",
   "execution_count": 104,
   "id": "49290d8d-c6db-411d-a3ea-58b5e0b1260b",
   "metadata": {},
   "outputs": [
    {
     "name": "stdout",
     "output_type": "stream",
     "text": [
      "              precision    recall  f1-score   support\n",
      "\n",
      "           0       0.91      0.82      0.86      6675\n",
      "           1       0.19      0.35      0.24       799\n",
      "\n",
      "    accuracy                           0.77      7474\n",
      "   macro avg       0.55      0.58      0.55      7474\n",
      "weighted avg       0.84      0.77      0.80      7474\n",
      "\n"
     ]
    }
   ],
   "source": [
    "model_dt = DecisionTreeClassifier()\n",
    "y_pred_dt= model_dt_tuned.predict(X_test)\n",
    "print(classification_report(y_test, y_pred_dt))"
   ]
  },
  {
   "cell_type": "code",
   "execution_count": 93,
   "id": "3818a66b-e193-46cc-8ff5-66809080f0c5",
   "metadata": {},
   "outputs": [],
   "source": [
    "model_dt_tuned = DecisionTreeClassifier(splitter=\"best\", max_depth=100, criterion=\"gini\").fit(X_train_st, y_train_st)"
   ]
  },
  {
   "cell_type": "code",
   "execution_count": 94,
   "id": "753eee7b-6c09-41c6-be04-6905f102a015",
   "metadata": {},
   "outputs": [
    {
     "name": "stdout",
     "output_type": "stream",
     "text": [
      "              precision    recall  f1-score   support\n",
      "\n",
      "           0       0.91      0.82      0.86      6675\n",
      "           1       0.19      0.35      0.24       799\n",
      "\n",
      "    accuracy                           0.77      7474\n",
      "   macro avg       0.55      0.58      0.55      7474\n",
      "weighted avg       0.84      0.77      0.80      7474\n",
      "\n"
     ]
    }
   ],
   "source": [
    "y_pred_dt_tuned = model_dt_tuned.predict(X_test)\n",
    "print(classification_report(y_test, y_pred_dt_tuned))"
   ]
  },
  {
   "cell_type": "markdown",
   "id": "51354197-081e-478f-a951-60d731d3bc10",
   "metadata": {
    "tags": []
   },
   "source": [
    "# Ensemble Model"
   ]
  },
  {
   "cell_type": "markdown",
   "id": "e5c3d9d6-d074-47d0-8f09-85b3d283cc2c",
   "metadata": {},
   "source": [
    "## RandomForestClassifier"
   ]
  },
  {
   "cell_type": "code",
   "execution_count": 95,
   "id": "29986e63-b472-4140-b587-b1c30361f8e0",
   "metadata": {},
   "outputs": [
    {
     "data": {
      "text/plain": [
       "RandomForestClassifier(max_depth=40, min_samples_leaf=2, n_estimators=500)"
      ]
     },
     "execution_count": 95,
     "metadata": {},
     "output_type": "execute_result"
    }
   ],
   "source": [
    "model_rfc_tuned = RandomForestClassifier(n_estimators = 500, min_samples_split = 2, min_samples_leaf = 2, max_depth = 40)\n",
    "model_rfc_tuned.fit(X_train_st, y_train_st)"
   ]
  },
  {
   "cell_type": "code",
   "execution_count": 96,
   "id": "9b5685ea-92ba-4289-82f7-b6702a104cea",
   "metadata": {},
   "outputs": [
    {
     "name": "stdout",
     "output_type": "stream",
     "text": [
      "              precision    recall  f1-score   support\n",
      "\n",
      "           0       0.92      0.82      0.87      6675\n",
      "           1       0.20      0.37      0.26       799\n",
      "\n",
      "    accuracy                           0.77      7474\n",
      "   macro avg       0.56      0.60      0.56      7474\n",
      "weighted avg       0.84      0.77      0.80      7474\n",
      "\n"
     ]
    }
   ],
   "source": [
    "y_pred_rfc_tuned = model_rfc_tuned.predict(X_test)\n",
    "print(classification_report(y_test, y_pred_rfc_tuned))"
   ]
  },
  {
   "cell_type": "code",
   "execution_count": 97,
   "id": "0bd3d079-2d15-4843-8132-11e3cbe32baa",
   "metadata": {},
   "outputs": [
    {
     "name": "stdout",
     "output_type": "stream",
     "text": [
      "\\model auc score:0.5961413377208402\n",
      "\n"
     ]
    },
    {
     "data": {
      "image/png": "[encoded data removed]",
      "text/plain": [
       "<Figure size 432x288 with 1 Axes>"
      ]
     },
     "metadata": {
      "needs_background": "light"
     },
     "output_type": "display_data"
    }
   ],
   "source": [
    "plot_roc_curve(y_test, y_pred_rfc_tuned, 'AUC Score')\n",
    "print(f'\\model auc score:{roc_auc_score(y_test, y_pred_rfc_tuned)}\\n')"
   ]
  },
  {
   "cell_type": "markdown",
   "id": "c6a5ea27-d2b0-4a84-ac41-b9166f855969",
   "metadata": {
    "tags": []
   },
   "source": [
    "## XGBClassifier"
   ]
  },
  {
   "cell_type": "code",
   "execution_count": 103,
   "id": "8a7ea38b-ad18-4aef-b7b8-1deb37c94ee6",
   "metadata": {},
   "outputs": [
    {
     "name": "stdout",
     "output_type": "stream",
     "text": [
      "              precision    recall  f1-score   support\n",
      "\n",
      "           0       0.91      0.92      0.92      6675\n",
      "           1       0.30      0.28      0.29       799\n",
      "\n",
      "    accuracy                           0.85      7474\n",
      "   macro avg       0.61      0.60      0.61      7474\n",
      "weighted avg       0.85      0.85      0.85      7474\n",
      "\n"
     ]
    }
   ],
   "source": [
    "model_xgc = XGBClassifier().fit(X_train_st, y_train_st)\n",
    "y_pred_xgc = model_xgc.predict(X_test)\n",
    "print(classification_report(y_test, y_pred_xgc))"
   ]
  },
  {
   "cell_type": "code",
   "execution_count": 99,
   "id": "ec03a799-81a2-4fca-8712-79486d8b0c5b",
   "metadata": {},
   "outputs": [
    {
     "data": {
      "text/plain": [
       "XGBClassifier(base_score=0.5, booster='gbtree', callbacks=None,\n",
       "              colsample_bylevel=1, colsample_bynode=1, colsample_bytree=1,\n",
       "              early_stopping_rounds=None, enable_categorical=False,\n",
       "              eval_metric=None, feature_types=None, gamma=2, gpu_id=-1,\n",
       "              grow_policy='depthwise', importance_type=None,\n",
       "              interaction_constraints='', learning_rate=0.300000012,\n",
       "              max_bin=256, max_cat_threshold=64, max_cat_to_onehot=4,\n",
       "              max_delta_step=0, max_depth=10, max_leaves=0, min_child_weight=10,\n",
       "              missing=nan, monotone_constraints='()', n_estimators=200,\n",
       "              n_jobs=0, num_parallel_tree=1, predictor='auto', random_state=0, ...)"
      ]
     },
     "execution_count": 99,
     "metadata": {},
     "output_type": "execute_result"
    }
   ],
   "source": [
    "from xgboost import XGBClassifier\n",
    "model_xgc_tuned = XGBClassifier(reg_lambda = 1, reg_alpha = 40, n_estimators = 200, max_depth = 10, gamma = 2, colsample_bytree=1, min_child_weight =10)\n",
    "model_xgc_tuned.fit(X_train_st, y_train_st)"
   ]
  },
  {
   "cell_type": "code",
   "execution_count": null,
   "id": "aeaf3074-7959-490c-9b40-11b999fb6792",
   "metadata": {},
   "outputs": [],
   "source": []
  },
  {
   "cell_type": "code",
   "execution_count": 100,
   "id": "249d7af1-1294-4c47-81e9-91dbac9e4dd7",
   "metadata": {},
   "outputs": [
    {
     "name": "stdout",
     "output_type": "stream",
     "text": [
      "              precision    recall  f1-score   support\n",
      "\n",
      "           0       0.92      0.89      0.91      6675\n",
      "           1       0.28      0.36      0.32       799\n",
      "\n",
      "    accuracy                           0.84      7474\n",
      "   macro avg       0.60      0.63      0.61      7474\n",
      "weighted avg       0.85      0.84      0.84      7474\n",
      "\n"
     ]
    }
   ],
   "source": [
    "y_pred_xgc_tuned = model_xgc_tuned.predict(X_test)\n",
    "print(classification_report(y_test, y_pred_xgc_tuned))"
   ]
  },
  {
   "cell_type": "code",
   "execution_count": 101,
   "id": "0599e265-f594-44f0-b7e3-67762665e38b",
   "metadata": {},
   "outputs": [
    {
     "name": "stdout",
     "output_type": "stream",
     "text": [
      "\\model auc score:0.6251160392438113\n",
      "\n"
     ]
    },
    {
     "data": {
      "image/png": "[encoded data removed]",
      "text/plain": [
       "<Figure size 432x288 with 1 Axes>"
      ]
     },
     "metadata": {
      "needs_background": "light"
     },
     "output_type": "display_data"
    }
   ],
   "source": [
    "plot_roc_curve(y_test, y_pred_xgc_tuned, 'AUC Score')\n",
    "print(f'\\model auc score:{roc_auc_score(y_test, y_pred_xgc_tuned)}\\n')"
   ]
  },
  {
   "cell_type": "code",
   "execution_count": 102,
   "id": "f4afeea8-423d-48dd-861e-01aec020c2dd",
   "metadata": {},
   "outputs": [
    {
     "name": "stdout",
     "output_type": "stream",
     "text": [
      "\n",
      "model AUC score (XGC) : 0.6251160392438113 -- Recall: 0.3579474342928661--F1 Score: 0.3170731707317074\n",
      "\n",
      "model AUC score (LogisticReg) : 0.6265818227840981-- Recall: 0.6320400500625782--F1 Score: 0.26350117401513173\n",
      "\n",
      "model AUC score (RFC) : 0.5961413377208402-- Recall: 0.3692115143929912--F1 Score: 0.2593406593406593\n",
      "\n",
      "model AUC score (DecisionTree) : 0.5840798188747169-- Recall: 0.3479349186483104--F1 Score: 0.24418093983311373\n",
      "\n"
     ]
    },
    {
     "data": {
      "image/png": "[encoded data removed]",
      "text/plain": [
       "<Figure size 432x288 with 1 Axes>"
      ]
     },
     "metadata": {
      "needs_background": "light"
     },
     "output_type": "display_data"
    }
   ],
   "source": [
    "# plot roc auc\n",
    "plot_roc_curve(y_test, y_pred_xgc_tuned, \"AUC XGC\")\n",
    "plot_roc_curve(y_test, y_pred_rfc_tuned, \"AUC RFC\")\n",
    "plot_roc_curve(y_test, y_pred_rs_tuned, \"AUC logisticregression\")\n",
    "plot_roc_curve(y_test, y_pred_dt_tuned, \"AUC dt\")\n",
    "print(f\"\\nmodel AUC score (XGC) : {roc_auc_score(y_test, y_pred_xgc_tuned)} -- Recall: {recall_score(y_test, y_pred_xgc_tuned)}--F1 Score: {f1_score(y_test, y_pred_xgc_tuned)}\")\n",
    "print(f\"\\nmodel AUC score (LogisticReg) : {roc_auc_score(y_test, y_pred_rs_tuned)}-- Recall: {recall_score(y_test, y_pred_rs_tuned)}--F1 Score: {f1_score(y_test, y_pred_rs_tuned)}\")\n",
    "print(f\"\\nmodel AUC score (RFC) : {roc_auc_score(y_test, y_pred_rfc_tuned)}-- Recall: {recall_score(y_test, y_pred_rfc_tuned)}--F1 Score: {f1_score(y_test, y_pred_rfc_tuned)}\")\n",
    "print(f\"\\nmodel AUC score (DecisionTree) : {roc_auc_score(y_test, y_pred_dt_tuned)}-- Recall: {recall_score(y_test, y_pred_dt_tuned)}--F1 Score: {f1_score(y_test, y_pred_dt_tuned)}\\n\")\n",
    "plt.show()\n",
    "\n",
    "rec = recall_score(y_test, y_pred)\n",
    "f1 = f1_score(y_test, y_pred)"
   ]
  },
  {
   "cell_type": "markdown",
   "id": "43cd9858-6268-4f50-b175-060d8cf286ca",
   "metadata": {},
   "source": [
    "Our model results for the training and test data which focused on recall score suggest logisticregression model is the best to use to maximize recall score with recall_score 0.632 and AUC_Score = 0.6265. Other models perform similar results with recall score around 0.39 and auc score of 0.6 "
   ]
  },
  {
   "cell_type": "markdown",
   "id": "7f91f706-055f-4de8-996c-a504d0f84cdf",
   "metadata": {},
   "source": [
    "# Summary"
   ]
  },
  {
   "cell_type": "markdown",
   "id": "a82d504b-5d59-4c51-8322-96ebd5d37f0b",
   "metadata": {},
   "source": [
    ">Clients who have subscribed concentrated in 30-50 years old range, with balance lower than 10000 and mostly have secondary education, and single.\n",
    "\n",
    "> asumming recall, to be not a problem, because not customer predicted as customer could increase subscription and pres\n",
    "\n",
    "> The logisticregression model has the highest recall score among other models with recall_score of 0.632 and false negative as low as 0.17 and AUC Score of 0.625. \n",
    "\n",
    "> Descision tree model, random foresrclassification, and xgbclassification perform similar results before or after hyper parameter tuning\n"
   ]
  }
 ],
 "metadata": {
  "kernelspec": {
   "display_name": "Python 3 (ipykernel)",
   "language": "python",
   "name": "python3"
  },
  "language_info": {
   "codemirror_mode": {
    "name": "ipython",
    "version": 3
   },
   "file_extension": ".py",
   "mimetype": "text/x-python",
   "name": "python",
   "nbconvert_exporter": "python",
   "pygments_lexer": "ipython3",
   "version": "3.9.12"
  },
  "widgets": {
   "application/vnd.jupyter.widget-state+json": {
    "state": {},
    "version_major": 2,
    "version_minor": 0
   }
  }
 },
 "nbformat": 4,
 "nbformat_minor": 5
}
