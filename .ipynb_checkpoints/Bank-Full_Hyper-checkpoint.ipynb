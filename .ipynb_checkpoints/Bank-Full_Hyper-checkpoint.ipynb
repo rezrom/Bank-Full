{
 "cells": [
  {
   "cell_type": "markdown",
   "id": "e75bfa4e-e865-482e-a443-ba66246d29e8",
   "metadata": {},
   "source": [
    "# Bank-Full Hyper"
   ]
  },
  {
   "cell_type": "code",
   "execution_count": 61,
   "id": "3fbbbdfb-1d67-43fd-856b-c152affd825d",
   "metadata": {
    "tags": []
   },
   "outputs": [],
   "source": [
    "# Import libraries\n",
    "import pandas as pd\n",
    "import numpy as np\n",
    "import seaborn as sns\n",
    "import matplotlib.pyplot as plt\n",
    "import time\n",
    "\n",
    "from sklearn.model_selection import train_test_split\n",
    "from sklearn.preprocessing import LabelEncoder\n",
    "\n",
    "from sklearn.linear_model import LogisticRegression\n",
    "from sklearn import tree\n",
    "from sklearn.tree import DecisionTreeRegressor, plot_tree, export_graphviz\n",
    "from sklearn.ensemble import ExtraTreesClassifier, RandomForestClassifier\n",
    "from xgboost import XGBClassifier\n",
    "\n",
    "from sklearn.metrics import classification_report, accuracy_score, confusion_matrix, recall_score, f1_score, roc_auc_score, roc_curve\n",
    "from sklearn.model_selection import RandomizedSearchCV\n",
    "\n",
    "import warnings\n",
    "warnings.filterwarnings('ignore')\n",
    "warnings.filterwarnings(action='ignore', category=FutureWarning)"
   ]
  },
  {
   "cell_type": "code",
   "execution_count": 62,
   "id": "f1ca08a1-629a-4f4b-bdbe-c1aa78032e1b",
   "metadata": {},
   "outputs": [],
   "source": [
    "df = pd.read_csv('Bank_h.csv')"
   ]
  },
  {
   "cell_type": "code",
   "execution_count": 63,
   "id": "3a05d1ba-97fb-4bc3-bd57-8d0675079f02",
   "metadata": {},
   "outputs": [
    {
     "data": {
      "text/html": [
       "<div>\n",
       "<style scoped>\n",
       "    .dataframe tbody tr th:only-of-type {\n",
       "        vertical-align: middle;\n",
       "    }\n",
       "\n",
       "    .dataframe tbody tr th {\n",
       "        vertical-align: top;\n",
       "    }\n",
       "\n",
       "    .dataframe thead th {\n",
       "        text-align: right;\n",
       "    }\n",
       "</style>\n",
       "<table border=\"1\" class=\"dataframe\">\n",
       "  <thead>\n",
       "    <tr style=\"text-align: right;\">\n",
       "      <th></th>\n",
       "      <th>age</th>\n",
       "      <th>marital</th>\n",
       "      <th>education</th>\n",
       "      <th>balance</th>\n",
       "      <th>campaign</th>\n",
       "      <th>housing_yes</th>\n",
       "      <th>loan_yes</th>\n",
       "      <th>y_yes</th>\n",
       "    </tr>\n",
       "  </thead>\n",
       "  <tbody>\n",
       "    <tr>\n",
       "      <th>0</th>\n",
       "      <td>0.769231</td>\n",
       "      <td>2.0</td>\n",
       "      <td>0.0</td>\n",
       "      <td>0.885115</td>\n",
       "      <td>0.0</td>\n",
       "      <td>1</td>\n",
       "      <td>0</td>\n",
       "      <td>0</td>\n",
       "    </tr>\n",
       "    <tr>\n",
       "      <th>1</th>\n",
       "      <td>0.500000</td>\n",
       "      <td>0.0</td>\n",
       "      <td>1.0</td>\n",
       "      <td>0.700984</td>\n",
       "      <td>0.0</td>\n",
       "      <td>1</td>\n",
       "      <td>0</td>\n",
       "      <td>0</td>\n",
       "    </tr>\n",
       "    <tr>\n",
       "      <th>2</th>\n",
       "      <td>0.288462</td>\n",
       "      <td>2.0</td>\n",
       "      <td>1.0</td>\n",
       "      <td>0.698633</td>\n",
       "      <td>0.0</td>\n",
       "      <td>1</td>\n",
       "      <td>1</td>\n",
       "      <td>0</td>\n",
       "    </tr>\n",
       "    <tr>\n",
       "      <th>3</th>\n",
       "      <td>0.557692</td>\n",
       "      <td>2.0</td>\n",
       "      <td>3.0</td>\n",
       "      <td>0.829632</td>\n",
       "      <td>0.0</td>\n",
       "      <td>1</td>\n",
       "      <td>0</td>\n",
       "      <td>0</td>\n",
       "    </tr>\n",
       "    <tr>\n",
       "      <th>4</th>\n",
       "      <td>0.288462</td>\n",
       "      <td>0.0</td>\n",
       "      <td>3.0</td>\n",
       "      <td>0.698545</td>\n",
       "      <td>0.0</td>\n",
       "      <td>0</td>\n",
       "      <td>0</td>\n",
       "      <td>0</td>\n",
       "    </tr>\n",
       "  </tbody>\n",
       "</table>\n",
       "</div>"
      ],
      "text/plain": [
       "        age  marital  education   balance  campaign  housing_yes  loan_yes  \\\n",
       "0  0.769231      2.0        0.0  0.885115       0.0            1         0   \n",
       "1  0.500000      0.0        1.0  0.700984       0.0            1         0   \n",
       "2  0.288462      2.0        1.0  0.698633       0.0            1         1   \n",
       "3  0.557692      2.0        3.0  0.829632       0.0            1         0   \n",
       "4  0.288462      0.0        3.0  0.698545       0.0            0         0   \n",
       "\n",
       "   y_yes  \n",
       "0      0  \n",
       "1      0  \n",
       "2      0  \n",
       "3      0  \n",
       "4      0  "
      ]
     },
     "execution_count": 63,
     "metadata": {},
     "output_type": "execute_result"
    }
   ],
   "source": [
    "df.head()"
   ]
  },
  {
   "cell_type": "code",
   "execution_count": 64,
   "id": "4f947994-1cbe-4e62-9740-2bbf28ca0b52",
   "metadata": {},
   "outputs": [
    {
     "name": "stdout",
     "output_type": "stream",
     "text": [
      "<class 'pandas.core.frame.DataFrame'>\n",
      "RangeIndex: 37368 entries, 0 to 37367\n",
      "Data columns (total 8 columns):\n",
      " #   Column       Non-Null Count  Dtype  \n",
      "---  ------       --------------  -----  \n",
      " 0   age          37368 non-null  float64\n",
      " 1   marital      37368 non-null  float64\n",
      " 2   education    37368 non-null  float64\n",
      " 3   balance      37368 non-null  float64\n",
      " 4   campaign     37368 non-null  float64\n",
      " 5   housing_yes  37368 non-null  int64  \n",
      " 6   loan_yes     37368 non-null  int64  \n",
      " 7   y_yes        37368 non-null  int64  \n",
      "dtypes: float64(5), int64(3)\n",
      "memory usage: 2.3 MB\n"
     ]
    }
   ],
   "source": [
    "df.info()"
   ]
  },
  {
   "cell_type": "code",
   "execution_count": 65,
   "id": "27745319-f76e-4434-acb3-013a734136e0",
   "metadata": {},
   "outputs": [
    {
     "data": {
      "text/html": [
       "<div>\n",
       "<style scoped>\n",
       "    .dataframe tbody tr th:only-of-type {\n",
       "        vertical-align: middle;\n",
       "    }\n",
       "\n",
       "    .dataframe tbody tr th {\n",
       "        vertical-align: top;\n",
       "    }\n",
       "\n",
       "    .dataframe thead th {\n",
       "        text-align: right;\n",
       "    }\n",
       "</style>\n",
       "<table border=\"1\" class=\"dataframe\">\n",
       "  <thead>\n",
       "    <tr style=\"text-align: right;\">\n",
       "      <th></th>\n",
       "      <th>count</th>\n",
       "      <th>mean</th>\n",
       "      <th>std</th>\n",
       "      <th>min</th>\n",
       "      <th>25%</th>\n",
       "      <th>50%</th>\n",
       "      <th>75%</th>\n",
       "      <th>max</th>\n",
       "    </tr>\n",
       "  </thead>\n",
       "  <tbody>\n",
       "    <tr>\n",
       "      <th>age</th>\n",
       "      <td>37368.0</td>\n",
       "      <td>0.428139</td>\n",
       "      <td>0.191096</td>\n",
       "      <td>0.0</td>\n",
       "      <td>0.269231</td>\n",
       "      <td>0.403846</td>\n",
       "      <td>0.576923</td>\n",
       "      <td>1.0</td>\n",
       "    </tr>\n",
       "    <tr>\n",
       "      <th>marital</th>\n",
       "      <td>37368.0</td>\n",
       "      <td>1.304539</td>\n",
       "      <td>0.888705</td>\n",
       "      <td>0.0</td>\n",
       "      <td>0.000000</td>\n",
       "      <td>2.000000</td>\n",
       "      <td>2.000000</td>\n",
       "      <td>2.0</td>\n",
       "    </tr>\n",
       "    <tr>\n",
       "      <th>education</th>\n",
       "      <td>37368.0</td>\n",
       "      <td>0.943749</td>\n",
       "      <td>0.765798</td>\n",
       "      <td>0.0</td>\n",
       "      <td>0.000000</td>\n",
       "      <td>1.000000</td>\n",
       "      <td>1.000000</td>\n",
       "      <td>3.0</td>\n",
       "    </tr>\n",
       "    <tr>\n",
       "      <th>balance</th>\n",
       "      <td>37368.0</td>\n",
       "      <td>0.754078</td>\n",
       "      <td>0.073773</td>\n",
       "      <td>0.0</td>\n",
       "      <td>0.702552</td>\n",
       "      <td>0.728943</td>\n",
       "      <td>0.783730</td>\n",
       "      <td>1.0</td>\n",
       "    </tr>\n",
       "    <tr>\n",
       "      <th>campaign</th>\n",
       "      <td>37368.0</td>\n",
       "      <td>0.226986</td>\n",
       "      <td>0.263512</td>\n",
       "      <td>0.0</td>\n",
       "      <td>0.000000</td>\n",
       "      <td>0.200000</td>\n",
       "      <td>0.400000</td>\n",
       "      <td>1.0</td>\n",
       "    </tr>\n",
       "    <tr>\n",
       "      <th>housing_yes</th>\n",
       "      <td>37368.0</td>\n",
       "      <td>0.573271</td>\n",
       "      <td>0.494609</td>\n",
       "      <td>0.0</td>\n",
       "      <td>0.000000</td>\n",
       "      <td>1.000000</td>\n",
       "      <td>1.000000</td>\n",
       "      <td>1.0</td>\n",
       "    </tr>\n",
       "    <tr>\n",
       "      <th>loan_yes</th>\n",
       "      <td>37368.0</td>\n",
       "      <td>0.170440</td>\n",
       "      <td>0.376024</td>\n",
       "      <td>0.0</td>\n",
       "      <td>0.000000</td>\n",
       "      <td>0.000000</td>\n",
       "      <td>0.000000</td>\n",
       "      <td>1.0</td>\n",
       "    </tr>\n",
       "    <tr>\n",
       "      <th>y_yes</th>\n",
       "      <td>37368.0</td>\n",
       "      <td>0.113091</td>\n",
       "      <td>0.316709</td>\n",
       "      <td>0.0</td>\n",
       "      <td>0.000000</td>\n",
       "      <td>0.000000</td>\n",
       "      <td>0.000000</td>\n",
       "      <td>1.0</td>\n",
       "    </tr>\n",
       "  </tbody>\n",
       "</table>\n",
       "</div>"
      ],
      "text/plain": [
       "               count      mean       std  min       25%       50%       75%  \\\n",
       "age          37368.0  0.428139  0.191096  0.0  0.269231  0.403846  0.576923   \n",
       "marital      37368.0  1.304539  0.888705  0.0  0.000000  2.000000  2.000000   \n",
       "education    37368.0  0.943749  0.765798  0.0  0.000000  1.000000  1.000000   \n",
       "balance      37368.0  0.754078  0.073773  0.0  0.702552  0.728943  0.783730   \n",
       "campaign     37368.0  0.226986  0.263512  0.0  0.000000  0.200000  0.400000   \n",
       "housing_yes  37368.0  0.573271  0.494609  0.0  0.000000  1.000000  1.000000   \n",
       "loan_yes     37368.0  0.170440  0.376024  0.0  0.000000  0.000000  0.000000   \n",
       "y_yes        37368.0  0.113091  0.316709  0.0  0.000000  0.000000  0.000000   \n",
       "\n",
       "             max  \n",
       "age          1.0  \n",
       "marital      2.0  \n",
       "education    3.0  \n",
       "balance      1.0  \n",
       "campaign     1.0  \n",
       "housing_yes  1.0  \n",
       "loan_yes     1.0  \n",
       "y_yes        1.0  "
      ]
     },
     "execution_count": 65,
     "metadata": {},
     "output_type": "execute_result"
    }
   ],
   "source": [
    "df.describe().T"
   ]
  },
  {
   "cell_type": "code",
   "execution_count": 66,
   "id": "6b776887-aec0-46b7-9e73-f5d03b260ab2",
   "metadata": {},
   "outputs": [],
   "source": [
    "X = df.drop(['y_yes'], axis = 1)\n",
    "y = df['y_yes']"
   ]
  },
  {
   "cell_type": "code",
   "execution_count": 67,
   "id": "e3d3e372-87a6-4d56-9342-e55c49520d30",
   "metadata": {},
   "outputs": [
    {
     "data": {
      "text/plain": [
       "0    33142\n",
       "1     4226\n",
       "Name: y_yes, dtype: int64"
      ]
     },
     "execution_count": 67,
     "metadata": {},
     "output_type": "execute_result"
    }
   ],
   "source": [
    "df['y_yes'].value_counts()"
   ]
  },
  {
   "cell_type": "code",
   "execution_count": 68,
   "id": "464ea1e3-4a3b-42f9-8a02-3ed3ba3b951c",
   "metadata": {},
   "outputs": [],
   "source": [
    "# untuk undersampling & oversampling\n",
    "from imblearn.over_sampling import SMOTE\n",
    "from imblearn.under_sampling import NearMiss, TomekLinks\n",
    "from imblearn.combine import SMOTETomek"
   ]
  },
  {
   "cell_type": "code",
   "execution_count": 69,
   "id": "476a7b84-c690-47e6-b5bb-c0585c74ffb5",
   "metadata": {},
   "outputs": [],
   "source": [
    "# train test split\n",
    "X_train, X_test, y_train, y_test = train_test_split(X, y, test_size=0.2, random_state=0) # size test = 20%"
   ]
  },
  {
   "cell_type": "code",
   "execution_count": 70,
   "id": "a39968d4-27e5-4c5e-aecf-76afa63870eb",
   "metadata": {},
   "outputs": [
    {
     "name": "stdout",
     "output_type": "stream",
     "text": [
      "X_train sebelum Resampling (29894, 7)\n",
      "y_train sebelum Resampling (29894,) \n",
      "\n",
      "label '1' sebelum Resampling 3427\n",
      "label '0' sebelum Resampling 26467\n"
     ]
    }
   ],
   "source": [
    "# cek sebelum resampling\n",
    "print('X_train sebelum Resampling', X_train.shape)\n",
    "print('y_train sebelum Resampling', y_train.shape, '\\n')\n",
    "\n",
    "print(\"label '1' sebelum Resampling\", sum(y_train == 1))\n",
    "print(\"label '0' sebelum Resampling\", sum(y_train == 0))"
   ]
  },
  {
   "cell_type": "code",
   "execution_count": 71,
   "id": "e53b3d4c-9500-47eb-8e76-29e794d27556",
   "metadata": {},
   "outputs": [],
   "source": [
    "# gunakan SMOTE+tomeklinks\n",
    "st = SMOTETomek()\n",
    "X_train_st, y_train_st = st.fit_resample(X_train, y_train)"
   ]
  },
  {
   "cell_type": "code",
   "execution_count": 72,
   "id": "c31fdfba-3206-4c07-9b6a-d5309c4823af",
   "metadata": {},
   "outputs": [
    {
     "name": "stdout",
     "output_type": "stream",
     "text": [
      "X_train sesudah Resampling (48302, 7)\n",
      "y_train sesudah Resampling (48302,) \n",
      "\n",
      "label '1' sesudah Resampling 24151\n",
      "label '0' sesudah Resampling 24151\n"
     ]
    }
   ],
   "source": [
    "# cek sesudah resampling\n",
    "print('X_train sesudah Resampling', X_train_st.shape)\n",
    "print('y_train sesudah Resampling', y_train_st.shape, '\\n')\n",
    "\n",
    "print(\"label '1' sesudah Resampling\", sum(y_train_st == 1))\n",
    "print(\"label '0' sesudah Resampling\", sum(y_train_st == 0))"
   ]
  },
  {
   "cell_type": "code",
   "execution_count": 73,
   "id": "39589a8e-6e8d-408b-93c4-1b1d3be04443",
   "metadata": {},
   "outputs": [
    {
     "data": {
      "text/plain": [
       "LogisticRegression()"
      ]
     },
     "execution_count": 73,
     "metadata": {},
     "output_type": "execute_result"
    }
   ],
   "source": [
    "model = LogisticRegression()\n",
    "model.fit(X_train_st, y_train_st)"
   ]
  },
  {
   "cell_type": "code",
   "execution_count": 74,
   "id": "0c67fca4-b85d-4617-95bf-b61ee0ef4f92",
   "metadata": {},
   "outputs": [],
   "source": [
    "y_pred = model.predict(X_test)\n",
    "from sklearn.metrics import confusion_matrix, accuracy_score, f1_score, precision_score, recall_score\n",
    "acc = accuracy_score(y_test, y_pred)\n",
    "prec = precision_score(y_test, y_pred)\n",
    "rec = recall_score(y_test, y_pred)\n",
    "f1 = f1_score(y_test, y_pred)\n"
   ]
  },
  {
   "cell_type": "code",
   "execution_count": 75,
   "id": "7b84571b-a677-41fe-b55d-a4258f482f9a",
   "metadata": {},
   "outputs": [
    {
     "name": "stdout",
     "output_type": "stream",
     "text": [
      "              precision    recall  f1-score   support\n",
      "\n",
      "           0       0.94      0.64      0.76      6675\n",
      "           1       0.17      0.64      0.27       799\n",
      "\n",
      "    accuracy                           0.64      7474\n",
      "   macro avg       0.56      0.64      0.52      7474\n",
      "weighted avg       0.86      0.64      0.71      7474\n",
      "\n"
     ]
    }
   ],
   "source": [
    "print(classification_report(y_test, y_pred))"
   ]
  },
  {
   "cell_type": "code",
   "execution_count": 76,
   "id": "c5ba9bdb-104d-4426-8da0-b3783b28a462",
   "metadata": {},
   "outputs": [],
   "source": [
    "# plot roc auc curve\n",
    "def plot_roc_curve(true_y, y_prob, labels):\n",
    "    \n",
    "    fpr,tpr,thresholds = roc_curve(true_y, y_prob)\n",
    "    \n",
    "    sns.lineplot(fpr, tpr, label=labels)\n",
    "    plt.xlabel('false positive rate')\n",
    "    plt.ylabel('false negative rate')"
   ]
  },
  {
   "cell_type": "code",
   "execution_count": 77,
   "id": "c6979771-bb0b-47c9-b922-07ba4eddd586",
   "metadata": {},
   "outputs": [
    {
     "name": "stdout",
     "output_type": "stream",
     "text": [
      "\\model auc score:0.6386511228923796\n",
      "\n"
     ]
    },
    {
     "data": {
      "image/png": "[encoded data removed]",
      "text/plain": [
       "<Figure size 432x288 with 1 Axes>"
      ]
     },
     "metadata": {
      "needs_background": "light"
     },
     "output_type": "display_data"
    }
   ],
   "source": [
    "plot_roc_curve(y_test, y_pred, 'AUC Score')\n",
    "print(f'\\model auc score:{roc_auc_score(y_test, y_pred)}\\n')"
   ]
  },
  {
   "cell_type": "code",
   "execution_count": 78,
   "id": "002be04e-b6d6-4b8d-b33f-c2633aa10eb3",
   "metadata": {},
   "outputs": [
    {
     "data": {
      "text/plain": [
       "{'C': 1.0,\n",
       " 'class_weight': None,\n",
       " 'dual': False,\n",
       " 'fit_intercept': True,\n",
       " 'intercept_scaling': 1,\n",
       " 'l1_ratio': None,\n",
       " 'max_iter': 100,\n",
       " 'multi_class': 'auto',\n",
       " 'n_jobs': None,\n",
       " 'penalty': 'l2',\n",
       " 'random_state': None,\n",
       " 'solver': 'lbfgs',\n",
       " 'tol': 0.0001,\n",
       " 'verbose': 0,\n",
       " 'warm_start': False}"
      ]
     },
     "execution_count": 78,
     "metadata": {},
     "output_type": "execute_result"
    }
   ],
   "source": [
    "model.get_params()"
   ]
  },
  {
   "cell_type": "code",
   "execution_count": 79,
   "id": "beda3ab8-4942-47f4-b507-bd07782041fe",
   "metadata": {},
   "outputs": [],
   "source": [
    "# paramaters of logitic regrresison in dictionary\n",
    "param =[{'solver':['saga'],\n",
    "        'penalty':['eleasticnet', 'l1', 'l2', 'none'],\n",
    "         'max_iter' : [10,100],\n",
    "         'C': [0.01,0.1,1],\n",
    "         'l1_ratio' : [0,1]},\n",
    "        \n",
    "       {'solver': ['newton-cg','lbfgs'],\n",
    "       'penalty': ['12', 'none'],\n",
    "       'max_iter': [10,100],\n",
    "       'C' : [0.01, 0.1,1],\n",
    "       'l1_ratio': [0,1]}]"
   ]
  },
  {
   "cell_type": "code",
   "execution_count": 80,
   "id": "51a4c068-59aa-4303-b9b8-53030ca9ee30",
   "metadata": {},
   "outputs": [],
   "source": [
    "# randomsearch\n",
    "model_rs = RandomizedSearchCV(estimator = model, n_iter=10, param_distributions=param, cv = 5, scoring = 'recall')"
   ]
  },
  {
   "cell_type": "code",
   "execution_count": 81,
   "id": "5cc90402-12b2-4ec0-b3b7-7271529aab3e",
   "metadata": {},
   "outputs": [
    {
     "data": {
      "text/plain": [
       "RandomizedSearchCV(cv=5, estimator=LogisticRegression(),\n",
       "                   param_distributions=[{'C': [0.01, 0.1, 1],\n",
       "                                         'l1_ratio': [0, 1],\n",
       "                                         'max_iter': [10, 100],\n",
       "                                         'penalty': ['eleasticnet', 'l1', 'l2',\n",
       "                                                     'none'],\n",
       "                                         'solver': ['saga']},\n",
       "                                        {'C': [0.01, 0.1, 1],\n",
       "                                         'l1_ratio': [0, 1],\n",
       "                                         'max_iter': [10, 100],\n",
       "                                         'penalty': ['12', 'none'],\n",
       "                                         'solver': ['newton-cg', 'lbfgs']}],\n",
       "                   scoring='recall')"
      ]
     },
     "execution_count": 81,
     "metadata": {},
     "output_type": "execute_result"
    }
   ],
   "source": [
    "# set start training time\n",
    "start_train = time.time()\n",
    "model_rs.fit(X_train_st, y_train_st)"
   ]
  },
  {
   "cell_type": "code",
   "execution_count": 82,
   "id": "391597cd-8c36-4c94-bc49-866ffe5da0d2",
   "metadata": {},
   "outputs": [
    {
     "name": "stdout",
     "output_type": "stream",
     "text": [
      "training time: 12.56404185295105\n"
     ]
    }
   ],
   "source": [
    "print('training time:', time.time()-start_train)"
   ]
  },
  {
   "cell_type": "code",
   "execution_count": 83,
   "id": "3ef9354d-1385-4ab5-94b2-ceff14994240",
   "metadata": {},
   "outputs": [
    {
     "data": {
      "text/plain": [
       "{'solver': 'saga', 'penalty': 'l1', 'max_iter': 100, 'l1_ratio': 1, 'C': 1}"
      ]
     },
     "execution_count": 83,
     "metadata": {},
     "output_type": "execute_result"
    }
   ],
   "source": [
    "model_rs.best_params_"
   ]
  },
  {
   "cell_type": "code",
   "execution_count": 100,
   "id": "90167532-8af1-472a-87c5-e1fb04e60c1d",
   "metadata": {},
   "outputs": [
    {
     "data": {
      "text/plain": [
       "LogisticRegression(C=1, l1_ratio=1, penalty='l1', solver='saga')"
      ]
     },
     "execution_count": 100,
     "metadata": {},
     "output_type": "execute_result"
    }
   ],
   "source": [
    "model_rs_tuned = LogisticRegression(C= 1, l1_ratio= 1, max_iter= 100, penalty= 'l1', solver= 'saga')\n",
    "model_rs_tuned.fit(X_train_st, y_train_st)"
   ]
  },
  {
   "cell_type": "code",
   "execution_count": 101,
   "id": "cf12ceff-4ab2-4cee-9f83-eed5360579bb",
   "metadata": {},
   "outputs": [
    {
     "name": "stdout",
     "output_type": "stream",
     "text": [
      "              precision    recall  f1-score   support\n",
      "\n",
      "           0       0.94      0.64      0.76      6675\n",
      "           1       0.17      0.64      0.27       799\n",
      "\n",
      "    accuracy                           0.64      7474\n",
      "   macro avg       0.56      0.64      0.52      7474\n",
      "weighted avg       0.86      0.64      0.71      7474\n",
      "\n"
     ]
    }
   ],
   "source": [
    "y_pred_rs_tuned = model_rs_tuned.predict(X_test)\n",
    "print(classification_report(y_test, y_pred_rs_tuned))"
   ]
  },
  {
   "cell_type": "code",
   "execution_count": 86,
   "id": "8f1bcb14-c96a-4025-8f0f-db448664611e",
   "metadata": {},
   "outputs": [
    {
     "name": "stdout",
     "output_type": "stream",
     "text": [
      "\\model auc score:0.6356236494119522\n",
      "\n"
     ]
    },
    {
     "data": {
      "image/png": "[encoded data removed]",
      "text/plain": [
       "<Figure size 432x288 with 1 Axes>"
      ]
     },
     "metadata": {
      "needs_background": "light"
     },
     "output_type": "display_data"
    }
   ],
   "source": [
    "plot_roc_curve(y_test, y_pred_rs_tuned, 'AUC Score')\n",
    "print(f'\\model auc score:{roc_auc_score(y_test, y_pred_rs_tuned)}\\n')"
   ]
  },
  {
   "cell_type": "code",
   "execution_count": 89,
   "id": "144d0a87-900f-4008-9724-6e32bc501ef2",
   "metadata": {},
   "outputs": [],
   "source": [
    "from sklearn.tree import DecisionTreeClassifier, plot_tree, export_graphviz"
   ]
  },
  {
   "cell_type": "code",
   "execution_count": 90,
   "id": "2aff53d2-98f5-4daf-827a-d016868d6702",
   "metadata": {},
   "outputs": [],
   "source": [
    "DTree = DecisionTreeClassifier().fit(X_train_st, y_train_st)"
   ]
  },
  {
   "cell_type": "code",
   "execution_count": 91,
   "id": "1a2e9936-568f-4463-9905-d94f5ee32320",
   "metadata": {},
   "outputs": [],
   "source": [
    "model_dt_tuned = DecisionTreeClassifier(splitter=\"best\", max_depth=100, criterion=\"gini\").fit(X_train_st, y_train_st)"
   ]
  },
  {
   "cell_type": "code",
   "execution_count": 94,
   "id": "7b5366a0-d704-4c64-b237-4cd753973e1e",
   "metadata": {},
   "outputs": [],
   "source": [
    "dt_sc = DTree.score(X_train_st, y_train_st)\n",
    "dt_tuned_sc = model_dt_tuned.score(X_train_st, y_train_st)"
   ]
  },
  {
   "cell_type": "code",
   "execution_count": 93,
   "id": "74ffc3f9-eb7e-433a-a4fc-b7bc1d5d4264",
   "metadata": {},
   "outputs": [
    {
     "name": "stdout",
     "output_type": "stream",
     "text": [
      "              precision    recall  f1-score   support\n",
      "\n",
      "           0       0.92      0.81      0.86      6675\n",
      "           1       0.19      0.38      0.26       799\n",
      "\n",
      "    accuracy                           0.77      7474\n",
      "   macro avg       0.55      0.59      0.56      7474\n",
      "weighted avg       0.84      0.77      0.80      7474\n",
      "\n"
     ]
    }
   ],
   "source": [
    "y_pred_dt_tuned = model_dt_tuned.predict(X_test)\n",
    "print(classification_report(y_test, y_pred_dt_tuned))"
   ]
  },
  {
   "cell_type": "markdown",
   "id": "dc59ab24-daac-4bce-8bca-24eeea2c8397",
   "metadata": {},
   "source": [
    "# Ensemble Model"
   ]
  },
  {
   "cell_type": "code",
   "execution_count": 87,
   "id": "3b43f00c-38f1-46e4-9ad8-c21c38276150",
   "metadata": {},
   "outputs": [],
   "source": [
    "# Random Forest Classifier\n",
    "model_rfc = RandomForestClassifier().fit(X_train_st, y_train_st)\n",
    "# XGBoost Classifier\n",
    "model_xgboost = XGBClassifier().fit(X_train_st, y_train_st)"
   ]
  },
  {
   "cell_type": "code",
   "execution_count": 29,
   "id": "9f413544-4d51-4d59-98a9-d61381a1b017",
   "metadata": {},
   "outputs": [
    {
     "data": {
      "text/plain": [
       "{'bootstrap': True,\n",
       " 'ccp_alpha': 0.0,\n",
       " 'class_weight': None,\n",
       " 'criterion': 'gini',\n",
       " 'max_depth': None,\n",
       " 'max_features': 'auto',\n",
       " 'max_leaf_nodes': None,\n",
       " 'max_samples': None,\n",
       " 'min_impurity_decrease': 0.0,\n",
       " 'min_samples_leaf': 1,\n",
       " 'min_samples_split': 2,\n",
       " 'min_weight_fraction_leaf': 0.0,\n",
       " 'n_estimators': 100,\n",
       " 'n_jobs': None,\n",
       " 'oob_score': False,\n",
       " 'random_state': None,\n",
       " 'verbose': 0,\n",
       " 'warm_start': False}"
      ]
     },
     "execution_count": 29,
     "metadata": {},
     "output_type": "execute_result"
    }
   ],
   "source": [
    "RandomForestClassifier().get_params()"
   ]
  },
  {
   "cell_type": "code",
   "execution_count": 45,
   "id": "e017d0ec-3598-49c5-9bf0-5e5e49ee6afc",
   "metadata": {},
   "outputs": [],
   "source": [
    "# Random Forest Classifier\n",
    "\n",
    "max_depth = [10, 20, 40, 'None']\n",
    "min_samples_leaf = [2, 4, 8]\n",
    "min_samples_split = [2, 10, 100]\n",
    "n_estimators = [10, 100, 500]\n",
    "\n",
    "RFC_param = {'max_depth' : max_depth, \n",
    "             'min_samples_leaf': min_samples_leaf, \n",
    "             'min_samples_split' : min_samples_split, \n",
    "             'n_estimators' : n_estimators}"
   ]
  },
  {
   "cell_type": "code",
   "execution_count": 46,
   "id": "c1acc427-7b77-469a-a735-1309eb79ed30",
   "metadata": {},
   "outputs": [],
   "source": [
    "# XGBoost Classifier\n",
    "\n",
    "max_depth = [3,5,10]\n",
    "gamma = [1,2]\n",
    "reg_alpha = [40,180]\n",
    "reg_lambda = [0,1]\n",
    "colsample_bytree = [0.5,1]\n",
    "min_child_weight = [0, 10, 1]\n",
    "n_estimators = [180, 200, 500]\n",
    "\n",
    "XGC_param = {'max_depth': max_depth,\n",
    "             'gamma': gamma,\n",
    "             'reg_alpha' : reg_alpha,\n",
    "             'reg_lambda' : reg_lambda,\n",
    "             'colsample_bytree' : colsample_bytree,\n",
    "             'min_child_weight' : min_child_weight,\n",
    "             'n_estimators': n_estimators}"
   ]
  },
  {
   "cell_type": "code",
   "execution_count": 47,
   "id": "a7d3973e-78a4-40c2-a882-ccc512596cff",
   "metadata": {},
   "outputs": [
    {
     "name": "stdout",
     "output_type": "stream",
     "text": [
      "training time RFC: 330.84578037261963\n"
     ]
    }
   ],
   "source": [
    "# set start training time\n",
    "start_train = time.time()\n",
    "model_rfc_rs= RandomizedSearchCV(estimator = model_rfc, param_distributions = RFC_param,  cv=5, scoring = 'recall').fit(X_train_st, y_train_st)\n",
    "print('training time RFC:', time.time()-start_train)"
   ]
  },
  {
   "cell_type": "code",
   "execution_count": 48,
   "id": "4bd4072f-5ed5-46f5-bc6d-745780fa9740",
   "metadata": {},
   "outputs": [
    {
     "data": {
      "text/plain": [
       "{'n_estimators': 500,\n",
       " 'min_samples_split': 2,\n",
       " 'min_samples_leaf': 2,\n",
       " 'max_depth': 40}"
      ]
     },
     "execution_count": 48,
     "metadata": {},
     "output_type": "execute_result"
    }
   ],
   "source": [
    "model_rfc_rs.best_params_"
   ]
  },
  {
   "cell_type": "code",
   "execution_count": 54,
   "id": "5d0e1761-5d3c-403e-88fc-6c3767ea3b09",
   "metadata": {},
   "outputs": [
    {
     "data": {
      "text/plain": [
       "RandomForestClassifier(max_depth=40, min_samples_leaf=2, n_estimators=500)"
      ]
     },
     "execution_count": 54,
     "metadata": {},
     "output_type": "execute_result"
    }
   ],
   "source": [
    "model_rfc_tuned = RandomForestClassifier(n_estimators = 500, min_samples_split = 2, min_samples_leaf = 2, max_depth = 40)\n",
    "model_rfc_tuned.fit(X_train_st, y_train_st)"
   ]
  },
  {
   "cell_type": "code",
   "execution_count": 55,
   "id": "3f683c18-47e5-4cd8-8524-634d99985a36",
   "metadata": {},
   "outputs": [
    {
     "name": "stdout",
     "output_type": "stream",
     "text": [
      "              precision    recall  f1-score   support\n",
      "\n",
      "           0       0.92      0.83      0.87      6675\n",
      "           1       0.22      0.40      0.29       799\n",
      "\n",
      "    accuracy                           0.78      7474\n",
      "   macro avg       0.57      0.62      0.58      7474\n",
      "weighted avg       0.85      0.78      0.81      7474\n",
      "\n"
     ]
    }
   ],
   "source": [
    "y_pred_rfc_tuned = model_rfc_tuned.predict(X_test)\n",
    "print(classification_report(y_test, y_pred_rfc_tuned))"
   ]
  },
  {
   "cell_type": "code",
   "execution_count": 59,
   "id": "29ecfd9d-33a1-4ea3-8f41-0284e8eeac05",
   "metadata": {},
   "outputs": [
    {
     "name": "stdout",
     "output_type": "stream",
     "text": [
      "\\model auc score:0.6161569939953031\n",
      "\n"
     ]
    },
    {
     "data": {
      "image/png": "[encoded data removed]",
      "text/plain": [
       "<Figure size 432x288 with 1 Axes>"
      ]
     },
     "metadata": {
      "needs_background": "light"
     },
     "output_type": "display_data"
    }
   ],
   "source": [
    "plot_roc_curve(y_test, y_pred_rfc_tuned, 'AUC Score')\n",
    "print(f'\\model auc score:{roc_auc_score(y_test, y_pred_rfc_tuned)}\\n')"
   ]
  },
  {
   "cell_type": "code",
   "execution_count": 51,
   "id": "adb8d8a8-f7b7-490b-9a6e-a6e92bda9d3b",
   "metadata": {},
   "outputs": [
    {
     "name": "stdout",
     "output_type": "stream",
     "text": [
      "training time XGC: 147.1891531944275\n"
     ]
    }
   ],
   "source": [
    "# set start training time\n",
    "start_train = time.time()\n",
    "model_xgcc_rs= RandomizedSearchCV(estimator = model_xgboost, param_distributions = XGC_param,  cv=5, scoring = 'recall').fit(X_train_st, y_train_st)\n",
    "print('training time XGC:', time.time()-start_train)"
   ]
  },
  {
   "cell_type": "code",
   "execution_count": 53,
   "id": "662692c6-607d-4b66-b8a1-c444ebbf2cca",
   "metadata": {},
   "outputs": [
    {
     "data": {
      "text/plain": [
       "{'reg_lambda': 1,\n",
       " 'reg_alpha': 40,\n",
       " 'n_estimators': 200,\n",
       " 'min_child_weight': 10,\n",
       " 'max_depth': 10,\n",
       " 'gamma': 2,\n",
       " 'colsample_bytree': 1}"
      ]
     },
     "execution_count": 53,
     "metadata": {},
     "output_type": "execute_result"
    }
   ],
   "source": [
    "model_xgcc_rs.best_params_"
   ]
  },
  {
   "cell_type": "code",
   "execution_count": 56,
   "id": "d42f7386-94f0-484b-aea9-8e48aaf1cac9",
   "metadata": {},
   "outputs": [
    {
     "data": {
      "text/plain": [
       "XGBClassifier(base_score=0.5, booster='gbtree', callbacks=None,\n",
       "              colsample_bylevel=1, colsample_bynode=1, colsample_bytree=1,\n",
       "              early_stopping_rounds=None, enable_categorical=False,\n",
       "              eval_metric=None, feature_types=None, gamma=2, gpu_id=-1,\n",
       "              grow_policy='depthwise', importance_type=None,\n",
       "              interaction_constraints='', learning_rate=0.300000012,\n",
       "              max_bin=256, max_cat_threshold=64, max_cat_to_onehot=4,\n",
       "              max_delta_step=0, max_depth=10, max_leaves=0, min_child_weight=10,\n",
       "              missing=nan, monotone_constraints='()', n_estimators=200,\n",
       "              n_jobs=0, num_parallel_tree=1, predictor='auto', random_state=0, ...)"
      ]
     },
     "execution_count": 56,
     "metadata": {},
     "output_type": "execute_result"
    }
   ],
   "source": [
    "model_xgc_tuned = XGBClassifier(reg_lambda = 1, reg_alpha = 40, n_estimators = 200, max_depth = 10, gamma = 2, colsample_bytree=1, min_child_weight =10)\n",
    "model_xgc_tuned.fit(X_train_st, y_train_st)"
   ]
  },
  {
   "cell_type": "code",
   "execution_count": 57,
   "id": "9d2e31de-05a5-4406-aa9c-5aaaa5740b66",
   "metadata": {},
   "outputs": [
    {
     "name": "stdout",
     "output_type": "stream",
     "text": [
      "              precision    recall  f1-score   support\n",
      "\n",
      "           0       0.92      0.88      0.90      6675\n",
      "           1       0.28      0.40      0.33       799\n",
      "\n",
      "    accuracy                           0.83      7474\n",
      "   macro avg       0.60      0.64      0.62      7474\n",
      "weighted avg       0.86      0.83      0.84      7474\n",
      "\n"
     ]
    }
   ],
   "source": [
    "y_pred_xgc_tuned = model_xgc_tuned.predict(X_test)\n",
    "print(classification_report(y_test, y_pred_xgc_tuned))"
   ]
  },
  {
   "cell_type": "code",
   "execution_count": 58,
   "id": "4e5b0721-5833-429a-81cd-02c9469f7972",
   "metadata": {},
   "outputs": [
    {
     "name": "stdout",
     "output_type": "stream",
     "text": [
      "\\model auc score:0.6382231534736773\n",
      "\n"
     ]
    },
    {
     "data": {
      "image/png": "[encoded data removed]",
      "text/plain": [
       "<Figure size 432x288 with 1 Axes>"
      ]
     },
     "metadata": {
      "needs_background": "light"
     },
     "output_type": "display_data"
    }
   ],
   "source": [
    "plot_roc_curve(y_test, y_pred_xgc_tuned, 'AUC Score')\n",
    "print(f'\\model auc score:{roc_auc_score(y_test, y_pred_xgc_tuned)}\\n')"
   ]
  },
  {
   "cell_type": "code",
   "execution_count": 102,
   "id": "971a7609-aa20-4b60-bf43-47c04e0d212a",
   "metadata": {},
   "outputs": [
    {
     "name": "stdout",
     "output_type": "stream",
     "text": [
      "\n",
      "model AUC score (XGC) : 0.6382231534736773 -- Recall: 0.3967459324155194--F1 Score: 0.3303804064616988\n",
      "\n",
      "model AUC score (LogisticReg) : 0.638501310158297-- Recall: 0.639549436795995--F1 Score: 0.2739946380697051\n",
      "\n",
      "model AUC score (RFC) : 0.6161569939953031-- Recall: 0.40175219023779724--F1 Score: 0.28520657485561973\n",
      "\n",
      "model AUC score (DecisionTree) : 0.5943264286350447-- Recall: 0.37546933667083854--F1 Score: 0.2557544757033248\n",
      "\n"
     ]
    },
    {
     "data": {
      "image/png": "[encoded data removed]",
      "text/plain": [
       "<Figure size 432x288 with 1 Axes>"
      ]
     },
     "metadata": {
      "needs_background": "light"
     },
     "output_type": "display_data"
    }
   ],
   "source": [
    "# plot roc auc\n",
    "plot_roc_curve(y_test, y_pred_xgc_tuned, \"AUC XGC\")\n",
    "plot_roc_curve(y_test, y_pred_rfc_tuned, \"AUC RFC\")\n",
    "plot_roc_curve(y_test, y_pred_rs_tuned, \"AUC logisticregression\")\n",
    "plot_roc_curve(y_test, y_pred_dt_tuned, \"AUC dt\")\n",
    "print(f\"\\nmodel AUC score (XGC) : {roc_auc_score(y_test, y_pred_xgc_tuned)} -- Recall: {recall_score(y_test, y_pred_xgc_tuned)}--F1 Score: {f1_score(y_test, y_pred_xgc_tuned)}\")\n",
    "print(f\"\\nmodel AUC score (LogisticReg) : {roc_auc_score(y_test, y_pred_rs_tuned)}-- Recall: {recall_score(y_test, y_pred_rs_tuned)}--F1 Score: {f1_score(y_test, y_pred_rs_tuned)}\")\n",
    "print(f\"\\nmodel AUC score (RFC) : {roc_auc_score(y_test, y_pred_rfc_tuned)}-- Recall: {recall_score(y_test, y_pred_rfc_tuned)}--F1 Score: {f1_score(y_test, y_pred_rfc_tuned)}\")\n",
    "print(f\"\\nmodel AUC score (DecisionTree) : {roc_auc_score(y_test, y_pred_dt_tuned)}-- Recall: {recall_score(y_test, y_pred_dt_tuned)}--F1 Score: {f1_score(y_test, y_pred_dt_tuned)}\\n\")\n",
    "plt.show()\n",
    "\n",
    "rec = recall_score(y_test, y_pred)\n",
    "f1 = f1_score(y_test, y_pred)"
   ]
  },
  {
   "cell_type": "code",
   "execution_count": null,
   "id": "0c182429-ac5d-4a18-8d39-f87fafcc7845",
   "metadata": {},
   "outputs": [],
   "source": []
  },
  {
   "cell_type": "code",
   "execution_count": null,
   "id": "2cfa4758-9c2e-476b-b8b2-20a5cb381bd8",
   "metadata": {},
   "outputs": [],
   "source": []
  },
  {
   "cell_type": "code",
   "execution_count": null,
   "id": "962ccec6-efdf-4081-bb73-aab1694fe9cb",
   "metadata": {},
   "outputs": [],
   "source": []
  }
 ],
 "metadata": {
  "kernelspec": {
   "display_name": "Python 3 (ipykernel)",
   "language": "python",
   "name": "python3"
  },
  "language_info": {
   "codemirror_mode": {
    "name": "ipython",
    "version": 3
   },
   "file_extension": ".py",
   "mimetype": "text/x-python",
   "name": "python",
   "nbconvert_exporter": "python",
   "pygments_lexer": "ipython3",
   "version": "3.9.12"
  },
  "widgets": {
   "application/vnd.jupyter.widget-state+json": {
    "state": {},
    "version_major": 2,
    "version_minor": 0
   }
  }
 },
 "nbformat": 4,
 "nbformat_minor": 5
}
